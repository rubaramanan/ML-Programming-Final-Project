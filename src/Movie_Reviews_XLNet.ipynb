{
  "cells": [
    {
      "cell_type": "code",
      "execution_count": 1,
      "metadata": {
        "colab": {
          "base_uri": "https://localhost:8080/"
        },
        "id": "iwM_yfN8n-bl",
        "outputId": "628498c6-9660-4af1-84b2-8ede478002a9"
      },
      "outputs": [
        {
          "output_type": "stream",
          "name": "stdout",
          "text": [
            "\u001b[2K     \u001b[90m━━━━━━━━━━━━━━━━━━━━━━━━━━━━━━━━━━━━━━━━\u001b[0m \u001b[32m1.3/1.3 MB\u001b[0m \u001b[31m13.2 MB/s\u001b[0m eta \u001b[36m0:00:00\u001b[0m\n",
            "\u001b[2K     \u001b[90m━━━━━━━━━━━━━━━━━━━━━━━━━━━━━━━━━━━━━━━━\u001b[0m \u001b[32m7.4/7.4 MB\u001b[0m \u001b[31m24.2 MB/s\u001b[0m eta \u001b[36m0:00:00\u001b[0m\n",
            "\u001b[2K     \u001b[90m━━━━━━━━━━━━━━━━━━━━━━━━━━━━━━━━━━━━━━\u001b[0m \u001b[32m268.8/268.8 kB\u001b[0m \u001b[31m24.6 MB/s\u001b[0m eta \u001b[36m0:00:00\u001b[0m\n",
            "\u001b[2K     \u001b[90m━━━━━━━━━━━━━━━━━━━━━━━━━━━━━━━━━━━━━━━━\u001b[0m \u001b[32m7.8/7.8 MB\u001b[0m \u001b[31m57.3 MB/s\u001b[0m eta \u001b[36m0:00:00\u001b[0m\n",
            "\u001b[2K     \u001b[90m━━━━━━━━━━━━━━━━━━━━━━━━━━━━━━━━━━━━━━━━\u001b[0m \u001b[32m1.3/1.3 MB\u001b[0m \u001b[31m59.4 MB/s\u001b[0m eta \u001b[36m0:00:00\u001b[0m\n",
            "\u001b[?25h"
          ]
        }
      ],
      "source": [
        "!pip install SentencePiece -q\n",
        "!pip install transformers -q"
      ]
    },
    {
      "cell_type": "markdown",
      "metadata": {
        "id": "wRcTuQluoU_O"
      },
      "source": [
        "### Required Libraries"
      ]
    },
    {
      "cell_type": "code",
      "execution_count": 2,
      "metadata": {
        "id": "JznhZpLDo40g"
      },
      "outputs": [],
      "source": [
        "import pandas as pd\n",
        "import numpy as np\n",
        "import matplotlib.pyplot as plt\n",
        "import seaborn as sns\n",
        "\n",
        "import torch\n",
        "import torch.nn as nn\n",
        "from torch.utils.data import Dataset, DataLoader\n",
        "\n",
        "from tqdm import tqdm\n",
        "\n",
        "import transformers\n",
        "from transformers import AdamW, get_linear_schedule_with_warmup\n",
        "\n",
        "from sklearn.model_selection import train_test_split\n",
        "from sklearn import metrics\n",
        "\n",
        "from collections import defaultdict\n",
        "\n",
        "import warnings\n",
        "warnings.filterwarnings('ignore')"
      ]
    },
    {
      "cell_type": "code",
      "source": [
        "from google.colab import drive\n",
        "drive.mount(\"/content/drive\")"
      ],
      "metadata": {
        "colab": {
          "base_uri": "https://localhost:8080/"
        },
        "id": "vfTzED6Xu_Us",
        "outputId": "79a9fcde-fe68-4e7f-8878-f582c2ad35e7"
      },
      "execution_count": 3,
      "outputs": [
        {
          "output_type": "stream",
          "name": "stdout",
          "text": [
            "Mounted at /content/drive\n"
          ]
        }
      ]
    },
    {
      "cell_type": "code",
      "execution_count": 4,
      "metadata": {
        "colab": {
          "base_uri": "https://localhost:8080/",
          "height": 514
        },
        "id": "Ei9svSUco_xa",
        "outputId": "cd4837e3-2aaa-480e-83d6-f29a70be259b"
      },
      "outputs": [
        {
          "output_type": "display_data",
          "data": {
            "text/plain": [
              "<Figure size 500x500 with 1 Axes>"
            ],
            "image/png": "[encoded data removed]"
          },
          "metadata": {}
        }
      ],
      "source": [
        "df = pd.read_csv(r\"/content/drive/MyDrive/Georgian/Sem1/ML programming/Final project/imdb_reviews.csv\")\n",
        "\n",
        "df[\"sentiment\"].value_counts().plot(kind='bar',\n",
        "                                    color=['green','red'],\n",
        "                                    title='Distribution of Positive and Negative Reviews',\n",
        "                                    figsize=(5,5));"
      ]
    },
    {
      "cell_type": "markdown",
      "metadata": {
        "id": "B5GlGi6mpD_p"
      },
      "source": [
        "### Config"
      ]
    },
    {
      "cell_type": "code",
      "execution_count": 5,
      "metadata": {
        "colab": {
          "base_uri": "https://localhost:8080/",
          "height": 113,
          "referenced_widgets": [
            "16b3161c5aed4e0bb286394018a16f25",
            "62022206f9f84d38946d79c689b86733",
            "c8660f0b6325443c9841607a1df6e61b",
            "51f53a79b67d4fa6bf2f5ecfbcf297f9",
            "7f71a8b32ba94025b00aed78618d3870",
            "51aab9e9763244849d19281eec1b7b50",
            "db6a2967f573453b9b6b2fa3c4b84a9b",
            "c4f5cdc85eea42e088bf3ad5d7085f38",
            "dcb0d6f7477e4fffb9144b1212f9ce46",
            "477629356dc44c658e1f1570d17826b8",
            "928961ae7ff14c109432dd3ab9e98e82",
            "2b8ad8e22ed24823abd21befee2e170b",
            "b93ac2f3423a477580e75571b2ebdb05",
            "0aa022ae8d21463d9db7c4b2696f3fa9",
            "f737543dbe5a41db8316295b98fb9e1b",
            "0e4166786b144249938763f138814d45",
            "253f1fd6c3e044438a2815d930e5f6ab",
            "2b32acdc7c974ca9b9c76c98e6559d77",
            "525ee4b696134c64922002999150d638",
            "296fa0462b434499b31e5ce320040ad5",
            "929b7ccfa4224c4b83ace394cff59f8b",
            "62c92aa28d9d4f36aed043f8c62286f2",
            "ddb4cda3764e47fb8237255e407e92f3",
            "49ca51f63eb84e279bbc61a0039c5478",
            "f624cfcc9c3d469799a495fcc7ad3124",
            "b77652e2fe054a8385396bb9a602fde4",
            "e563ef7ba5704afea7803be68dcda05d",
            "30cf734230664d86bac45491125eee3c",
            "4ea41b4a39a448ad82f223b8bde75618",
            "9692a1a7b4084bf2a5c29da96012ea3c",
            "8f2282cb0a744c6fb6894266789ec01e",
            "513d13b584b64ecb83d58250ee67c761",
            "5d65079effb14a2d9ffaefdf9754f69a"
          ]
        },
        "id": "mLdCW0S1pFfn",
        "outputId": "4db78f5b-638d-43b9-d9c4-373fa9cc84c8"
      },
      "outputs": [
        {
          "output_type": "display_data",
          "data": {
            "text/plain": [
              "Downloading (…)ve/main/spiece.model:   0%|          | 0.00/798k [00:00<?, ?B/s]"
            ],
            "application/vnd.jupyter.widget-view+json": {
              "version_major": 2,
              "version_minor": 0,
              "model_id": "16b3161c5aed4e0bb286394018a16f25"
            }
          },
          "metadata": {}
        },
        {
          "output_type": "display_data",
          "data": {
            "text/plain": [
              "Downloading (…)lve/main/config.json:   0%|          | 0.00/760 [00:00<?, ?B/s]"
            ],
            "application/vnd.jupyter.widget-view+json": {
              "version_major": 2,
              "version_minor": 0,
              "model_id": "2b8ad8e22ed24823abd21befee2e170b"
            }
          },
          "metadata": {}
        },
        {
          "output_type": "display_data",
          "data": {
            "text/plain": [
              "Downloading pytorch_model.bin:   0%|          | 0.00/467M [00:00<?, ?B/s]"
            ],
            "application/vnd.jupyter.widget-view+json": {
              "version_major": 2,
              "version_minor": 0,
              "model_id": "ddb4cda3764e47fb8237255e407e92f3"
            }
          },
          "metadata": {}
        }
      ],
      "source": [
        "class Config:\n",
        "  MAX_LEN = 384\n",
        "  TRAIN_BATCH_SIZE = 8\n",
        "  VALID_BATCH_SIZE = 4\n",
        "  EPOCHS = 4\n",
        "  DEVICE = torch.device(\"cuda\" if torch.cuda.is_available() else \"cpu\")\n",
        "\n",
        "  XLNet_PATH = \"xlnet-base-cased\"\n",
        "  MODEL_PATH = \"xlnetModel.bin\"\n",
        "  TRAINING_DATA = \"/content/drive/MyDrive/Georgian/Sem1/ML programming/Final project/imdb_reviews.csv\"\n",
        "\n",
        "  TOKENIZER = transformers.XLNetTokenizer.from_pretrained(XLNet_PATH, do_lower_case = True)\n",
        "  MODEL = transformers.XLNetModel.from_pretrained(XLNet_PATH, return_dict=True)"
      ]
    },
    {
      "cell_type": "markdown",
      "metadata": {
        "id": "jS0Gbue-pINZ"
      },
      "source": [
        "### Dataset"
      ]
    },
    {
      "cell_type": "code",
      "execution_count": 6,
      "metadata": {
        "id": "fq3rTgjjpJqn"
      },
      "outputs": [],
      "source": [
        "class DataProcess:\n",
        "  def __init__(self, review):\n",
        "    self.tokenizer = Config.TOKENIZER\n",
        "    self.max_len = Config.MAX_LEN\n",
        "    self.review = review\n",
        "\n",
        "  def preprocess_bert(self):\n",
        "    reviw = \" \".join(self.review.split())\n",
        "    inputs = self.tokenizer.encode_plus(\n",
        "        reviw,\n",
        "        None,\n",
        "        add_special_tokens=True,\n",
        "        max_length=self.max_len,\n",
        "        # padding = \"max_length\",\n",
        "        truncation=True\n",
        "        )\n",
        "\n",
        "    input_ids = inputs[\"input_ids\"]\n",
        "    attention_mask = inputs[\"attention_mask\"]\n",
        "    token_type_ids = inputs[\"token_type_ids\"]\n",
        "\n",
        "    return (\n",
        "        torch.tensor(input_ids, dtype=torch.long).unsqueeze(0),\n",
        "        torch.tensor(attention_mask, dtype=torch.long).unsqueeze(0),\n",
        "        torch.tensor(token_type_ids, dtype=torch.long).unsqueeze(0)\n",
        "        )\n",
        "\n",
        "  def preprocess_output(self, outputs):\n",
        "    outputs = torch.sigmoid(outputs).cpu().detach().numpy()\n",
        "    return outputs[0][0]\n",
        "\n",
        "class MovieReviewDatSet:\n",
        "  def __init__(self, data_path):\n",
        "\n",
        "    self.data = pd.read_csv(data_path).fillna('none')\n",
        "    self.data.sentiment = self.data.sentiment.apply(lambda x: 1 if x == \"positive\" else 0)\n",
        "    self.data = self.data.reset_index(drop=True)\n",
        "    self.tokenizer = Config.TOKENIZER\n",
        "    self.max_len = Config.MAX_LEN\n",
        "    self.review = self.data.review.values\n",
        "    self.label = self.data.sentiment.values\n",
        "\n",
        "  def __len__(self):\n",
        "    return len(self.review)\n",
        "\n",
        "  def __getitem__(self, item):\n",
        "    review = str(self.review[item])\n",
        "    review = \" \".join(review.split())\n",
        "\n",
        "    inputs = self.tokenizer.encode_plus(\n",
        "        review,\n",
        "        None,\n",
        "        add_special_tokens = True,\n",
        "        max_length = self.max_len,\n",
        "        padding = \"max_length\",\n",
        "        truncation= True\n",
        "    )\n",
        "\n",
        "    input_ids = inputs[\"input_ids\"]\n",
        "    attention_mask = inputs[\"attention_mask\"]\n",
        "    token_type_ids = inputs[\"token_type_ids\"]\n",
        "\n",
        "    return {\n",
        "        \"input_ids\" : torch.tensor(input_ids, dtype=torch.long),\n",
        "        \"attention_mask\" : torch.tensor(attention_mask, dtype=torch.long),\n",
        "        \"token_type_ids\" : torch.tensor(token_type_ids, dtype=torch.long),\n",
        "        \"labels\" : torch.tensor(self.label[item], dtype=torch.float)\n",
        "        }"
      ]
    },
    {
      "cell_type": "markdown",
      "metadata": {
        "id": "wXDLAH0ZpRJT"
      },
      "source": [
        "### Model"
      ]
    },
    {
      "cell_type": "markdown",
      "metadata": {
        "id": "HjgyqMJ5wHfP"
      },
      "source": [
        "![mrxlnet.png](data:image/png;base64,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)"
      ]
    },
    {
      "cell_type": "code",
      "execution_count": 7,
      "metadata": {
        "id": "BPAoJA5MpTDV"
      },
      "outputs": [],
      "source": [
        "class XLNetModel(nn.Module):\n",
        "  def __init__(self):\n",
        "    super(XLNetModel, self).__init__()\n",
        "    self.bert = Config.MODEL\n",
        "    # self.bert_drop = nn.Dropout(0.3)\n",
        "    self.out = nn.Linear(768, 1)\n",
        "    torch.nn.init.xavier_normal_(self.out.weight)\n",
        "\n",
        "  def forward(self, input_ids, attention_mask, token_type_ids):\n",
        "    last_hidden_state = self.bert(input_ids=input_ids, attention_mask=attention_mask, token_type_ids = token_type_ids)\n",
        "    # bo = self.bert_drop(pooled_output)\n",
        "    mean_last_hidden_state = torch.mean(last_hidden_state[0], 1)\n",
        "    output = self.out(mean_last_hidden_state)\n",
        "\n",
        "    return output"
      ]
    },
    {
      "cell_type": "markdown",
      "metadata": {
        "id": "xBqF9d1HpWrQ"
      },
      "source": [
        "### Engine"
      ]
    },
    {
      "cell_type": "code",
      "execution_count": 8,
      "metadata": {
        "id": "QOggX7XNpX96"
      },
      "outputs": [],
      "source": [
        "def loss_fn(outputs, labels):\n",
        "  return nn.BCEWithLogitsLoss()(outputs, labels.view(-1, 1))\n",
        "\n",
        "def train_fn(train_dataloader, model, optimizer, device, scheduler):\n",
        "  model.train()\n",
        "  final_loss = 0\n",
        "\n",
        "  fin_labels = []\n",
        "  fin_outputs = []\n",
        "  for bi, d in tqdm(enumerate(train_dataloader), total=len(train_dataloader)):\n",
        "    input_ids = d[\"input_ids\"]\n",
        "    attention_mask = d[\"attention_mask\"]\n",
        "    token_type_ids = d[\"token_type_ids\"]\n",
        "    labels = d[\"labels\"]\n",
        "\n",
        "    input_ids = input_ids.to(device, dtype=torch.long)\n",
        "    attention_mask = attention_mask.to(device, dtype=torch.long)\n",
        "    token_type_ids = token_type_ids.to(device, dtype = torch.long)\n",
        "    labels = labels.to(device, dtype = torch.float)\n",
        "\n",
        "    optimizer.zero_grad()\n",
        "    outputs = model(input_ids=input_ids, attention_mask=attention_mask, token_type_ids = token_type_ids)\n",
        "    loss = loss_fn(outputs, labels)\n",
        "\n",
        "    final_loss += loss.item()\n",
        "    fin_labels.extend(labels.cpu().detach().numpy().tolist())\n",
        "    fin_outputs.extend(torch.sigmoid(outputs).cpu().detach().numpy().tolist())\n",
        "\n",
        "    loss.backward()\n",
        "    optimizer.step()\n",
        "    scheduler.step()\n",
        "\n",
        "  return fin_outputs, fin_labels, final_loss/len(train_dataloader)\n",
        "\n",
        "def eval_fn(valid_dataloader, model, device):\n",
        "  model.eval()\n",
        "  final_loss = 0\n",
        "\n",
        "  fin_labels = []\n",
        "  fin_outputs = []\n",
        "  with torch.no_grad():\n",
        "    for bi, d in tqdm(enumerate(valid_dataloader), total=len(valid_dataloader)):\n",
        "      input_ids = d[\"input_ids\"]\n",
        "      attention_mask = d[\"attention_mask\"]\n",
        "      token_type_ids = d[\"token_type_ids\"]\n",
        "      labels = d[\"labels\"]\n",
        "\n",
        "      input_ids = input_ids.to(device, dtype=torch.long)\n",
        "      attention_mask = attention_mask.to(device, dtype=torch.long)\n",
        "      token_type_ids = token_type_ids.to(device, dtype = torch.long)\n",
        "      labels = labels.to(device, dtype = torch.float)\n",
        "\n",
        "      outputs = model(input_ids=input_ids, attention_mask=attention_mask, token_type_ids = token_type_ids)\n",
        "\n",
        "      loss = loss_fn(outputs, labels)\n",
        "      final_loss += loss.item()\n",
        "\n",
        "      fin_labels.extend(labels.cpu().detach().numpy().tolist())\n",
        "      fin_outputs.extend(torch.sigmoid(outputs).cpu().detach().numpy().tolist())\n",
        "\n",
        "\n",
        "  return fin_outputs, fin_labels, final_loss/len(valid_dataloader)"
      ]
    },
    {
      "cell_type": "markdown",
      "metadata": {
        "id": "hHkaKfKqpbRg"
      },
      "source": [
        "### Train"
      ]
    },
    {
      "cell_type": "code",
      "execution_count": 9,
      "metadata": {
        "colab": {
          "base_uri": "https://localhost:8080/"
        },
        "id": "DYiq9OBrpcZC",
        "outputId": "2c5c0208-4e9f-43c0-fdab-bc67421bc189"
      },
      "outputs": [
        {
          "output_type": "stream",
          "name": "stderr",
          "text": [
            "100%|██████████| 2813/2813 [50:40<00:00,  1.08s/it]\n",
            "100%|██████████| 625/625 [02:33<00:00,  4.06it/s]\n"
          ]
        },
        {
          "output_type": "stream",
          "name": "stdout",
          "text": [
            "Epoch: 1\n",
            "Train Loss: 0.22670205672294064 - Train Accuracy: 0.9131555555555556 \n",
            "Valid Loss: 0.18890754350116476 - Valid Accuracy: 0.9232\n",
            "\n"
          ]
        },
        {
          "output_type": "stream",
          "name": "stderr",
          "text": [
            "100%|██████████| 2813/2813 [50:48<00:00,  1.08s/it]\n",
            "100%|██████████| 625/625 [02:33<00:00,  4.06it/s]\n"
          ]
        },
        {
          "output_type": "stream",
          "name": "stdout",
          "text": [
            "Epoch: 2\n",
            "Train Loss: 0.11395399925458155 - Train Accuracy: 0.9589333333333333 \n",
            "Valid Loss: 0.2302482358713867 - Valid Accuracy: 0.9324\n",
            "\n"
          ]
        },
        {
          "output_type": "stream",
          "name": "stderr",
          "text": [
            "100%|██████████| 2813/2813 [50:49<00:00,  1.08s/it]\n",
            "100%|██████████| 625/625 [02:33<00:00,  4.07it/s]"
          ]
        },
        {
          "output_type": "stream",
          "name": "stdout",
          "text": [
            "Epoch: 3\n",
            "Train Loss: 0.05371839967428833 - Train Accuracy: 0.9824888888888889 \n",
            "Valid Loss: 0.2663777281169547 - Valid Accuracy: 0.928\n",
            "\n"
          ]
        },
        {
          "output_type": "stream",
          "name": "stderr",
          "text": [
            "\n",
            "100%|██████████| 2813/2813 [50:49<00:00,  1.08s/it]\n",
            "100%|██████████| 625/625 [02:33<00:00,  4.06it/s]"
          ]
        },
        {
          "output_type": "stream",
          "name": "stdout",
          "text": [
            "Epoch: 4\n",
            "Train Loss: 0.020500461608848983 - Train Accuracy: 0.9944444444444445 \n",
            "Valid Loss: 0.2837747077773325 - Valid Accuracy: 0.9284\n",
            "\n"
          ]
        },
        {
          "output_type": "stream",
          "name": "stderr",
          "text": [
            "\n"
          ]
        }
      ],
      "source": [
        "dataset = MovieReviewDatSet(Config.TRAINING_DATA)\n",
        "\n",
        "train_data, valid_data = train_test_split(dataset, test_size = 0.1)\n",
        "train_dataloader = DataLoader(train_data, batch_size=Config.TRAIN_BATCH_SIZE, num_workers=4)\n",
        "valid_dataloader = DataLoader(valid_data, batch_size=Config.VALID_BATCH_SIZE, num_workers=1)\n",
        "\n",
        "model = XLNetModel()\n",
        "model.to(Config.DEVICE)\n",
        "\n",
        "param_optimizer = list(model.named_parameters())\n",
        "no_decay = [\"bias\", \"LayerNorm.bias\", \"LayerNorm.weight\"]\n",
        "optimizer_parameters = [\n",
        "                        {\n",
        "                            \"params\": [\n",
        "                                       p for n, p in param_optimizer if not any(nd in n for nd in no_decay)\n",
        "                                       ],\n",
        "                         \"weight_decay\": 0.001,\n",
        "                         },\n",
        "                        {\n",
        "                            \"params\": [\n",
        "                                       p for n, p in param_optimizer if any(nd in n for nd in no_decay)\n",
        "                                       ],\n",
        "                         \"weight_decay\": 0.0,\n",
        "                         },\n",
        "                        ]\n",
        "\n",
        "num_train_steps = int(len(train_data) / Config.TRAIN_BATCH_SIZE * Config.EPOCHS)\n",
        "optimizer = AdamW(optimizer_parameters, lr=3e-5)\n",
        "scheduler = get_linear_schedule_with_warmup(\n",
        "    optimizer, num_warmup_steps=0, num_training_steps=num_train_steps\n",
        "    )\n",
        "\n",
        "history = defaultdict(list)\n",
        "\n",
        "best_accuracy = 0\n",
        "for epoch in range(1, Config.EPOCHS+1):\n",
        "  train_outputs, train_labels, train_loss = train_fn(train_dataloader, model, optimizer, Config.DEVICE, scheduler)\n",
        "  valid_outputs, valid_labels, valid_loss = eval_fn(valid_dataloader, model, Config.DEVICE)\n",
        "\n",
        "  train_outputs = np.array(train_outputs) >= 0.5\n",
        "  valid_outputs = np.array(valid_outputs) >= 0.5\n",
        "\n",
        "  train_accuracy = metrics.accuracy_score(train_labels, train_outputs)\n",
        "  valid_accuracy = metrics.accuracy_score(valid_labels, valid_outputs)\n",
        "\n",
        "  print(f\"Epoch: {epoch}\\nTrain Loss: {train_loss} - Train Accuracy: {train_accuracy} \\nValid Loss: {valid_loss} - Valid Accuracy: {valid_accuracy}\\n\")\n",
        "\n",
        "  history['Train Loss'].append(train_loss)\n",
        "  history['Train Accuracy'].append(train_accuracy)\n",
        "  history['Valid Loss'].append(valid_loss)\n",
        "  history['Valid Accuracy'].append(valid_accuracy)\n",
        "\n",
        "  if valid_accuracy > best_accuracy:\n",
        "    torch.save(model.state_dict(), Config.MODEL_PATH)\n",
        "    best_accuracy = valid_accuracy"
      ]
    },
    {
      "cell_type": "markdown",
      "metadata": {
        "id": "-s-ZXAW2pgjT"
      },
      "source": [
        "### Error Analysis & Performance auditing"
      ]
    },
    {
      "cell_type": "code",
      "execution_count": 10,
      "metadata": {
        "id": "A2IR5cFHplRk"
      },
      "outputs": [],
      "source": [
        "def get_metrics(labels, outputs):\n",
        "  accuracy = metrics.accuracy_score(labels, outputs)\n",
        "  recall = metrics.recall_score(labels, outputs)\n",
        "  precision = metrics.precision_score(labels, outputs)\n",
        "  f1 = metrics.f1_score(labels, outputs)\n",
        "  return accuracy, recall, precision, f1"
      ]
    },
    {
      "cell_type": "code",
      "execution_count": 11,
      "metadata": {
        "colab": {
          "base_uri": "https://localhost:8080/",
          "height": 874
        },
        "id": "QfvX8iR0popE",
        "outputId": "348f7229-0313-4ad8-fab7-620c29cce9d8"
      },
      "outputs": [
        {
          "output_type": "stream",
          "name": "stdout",
          "text": [
            "======================================================================================================================================================\n",
            "\n",
            "Results summary\n",
            "\n",
            "Accuracy Score  : 0.9284\n",
            "Recall Score    : 0.9275945293644409\n",
            "Precision Score : 0.928341384863124\n",
            "F1 Score        : 0.9279678068410463\n",
            "======================================================================================================================================================\n",
            "\n",
            "Classification report \n",
            "\n",
            "               precision    recall  f1-score   support\n",
            "\n",
            "         0.0       0.93      0.93      0.93      1257\n",
            "         1.0       0.93      0.93      0.93      1243\n",
            "\n",
            "    accuracy                           0.93      2500\n",
            "   macro avg       0.93      0.93      0.93      2500\n",
            "weighted avg       0.93      0.93      0.93      2500\n",
            "\n",
            "======================================================================================================================================================\n"
          ]
        },
        {
          "output_type": "display_data",
          "data": {
            "text/plain": [
              "<Figure size 640x480 with 1 Axes>"
            ],
            "image/png": "[encoded data removed]"
          },
          "metadata": {}
        }
      ],
      "source": [
        "accuracy, recall, precision, f1 = get_metrics(valid_labels, valid_outputs)\n",
        "\n",
        "print(\"===\"*50)\n",
        "print(\"\\nResults summary\\n\")\n",
        "print(f\"Accuracy Score  : {accuracy}\")\n",
        "print(f\"Recall Score    : {recall}\")\n",
        "print(f\"Precision Score : {precision}\")\n",
        "print(f\"F1 Score        : {f1}\")\n",
        "\n",
        "print(\"===\"*50)\n",
        "print(\"\\nClassification report \\n\\n\", metrics.classification_report(valid_labels, valid_outputs))\n",
        "\n",
        "print(\"===\"*50)\n",
        "cm = metrics.confusion_matrix(valid_labels, valid_outputs)\n",
        "fig, ax = plt.subplots()\n",
        "sns.heatmap(cm, annot=True, fmt='d', ax=ax, cmap=plt.cm.Blues, cbar=False)\n",
        "ax.set(xlabel=\"Predicted Label\",\n",
        "       ylabel=\"True Label\",\n",
        "       xticklabels=np.unique(valid_labels),\n",
        "       yticklabels=np.unique(valid_labels),\n",
        "       title=\"CONFUSION MATRIX\")\n",
        "plt.yticks(rotation=0);"
      ]
    },
    {
      "cell_type": "code",
      "execution_count": 12,
      "metadata": {
        "colab": {
          "base_uri": "https://localhost:8080/",
          "height": 472
        },
        "id": "hEqbJ4CGpq-F",
        "outputId": "ec8e1daa-65cc-4e83-de60-6e1937bac2f3"
      },
      "outputs": [
        {
          "output_type": "display_data",
          "data": {
            "text/plain": [
              "<Figure size 640x480 with 1 Axes>"
            ],
            "image/png": "[encoded data removed]"
          },
          "metadata": {}
        }
      ],
      "source": [
        "plt.plot(history['Train Accuracy'], '-o', label='Train Accuracy')\n",
        "plt.plot(history['Valid Accuracy'], '-o', label='Validation Accuracy')\n",
        "plt.title('Training History')\n",
        "plt.ylabel('Accuracy')\n",
        "plt.xlabel('Epoch')\n",
        "plt.legend()\n",
        "plt.ylim([0, 1]);"
      ]
    },
    {
      "cell_type": "code",
      "execution_count": 13,
      "metadata": {
        "colab": {
          "base_uri": "https://localhost:8080/",
          "height": 472
        },
        "id": "897W8dw2ptHI",
        "outputId": "0780b0e6-b7bc-42e2-f858-ec373c9f8d96"
      },
      "outputs": [
        {
          "output_type": "display_data",
          "data": {
            "text/plain": [
              "<Figure size 640x480 with 1 Axes>"
            ],
            "image/png": "[encoded data removed]"
          },
          "metadata": {}
        }
      ],
      "source": [
        "plt.plot(history['Train Loss'], '-o', label='Train Loss')\n",
        "plt.plot(history['Valid Loss'], '-o', label='Validation Loss')\n",
        "plt.title('Training History')\n",
        "plt.ylabel('Loss')\n",
        "plt.xlabel('Epoch')\n",
        "plt.legend()\n",
        "plt.ylim([0, 1]);"
      ]
    },
    {
      "cell_type": "markdown",
      "metadata": {
        "id": "f4cZc1_Fpwz2"
      },
      "source": [
        "### Inference"
      ]
    },
    {
      "cell_type": "code",
      "execution_count": 14,
      "metadata": {
        "id": "HGdlYG50pyZV"
      },
      "outputs": [],
      "source": [
        "model = XLNetModel()\n",
        "model.to(Config.DEVICE)\n",
        "model.load_state_dict(\n",
        "    torch.load(\n",
        "        Config.MODEL_PATH,\n",
        "        map_location=torch.device(Config.DEVICE)\n",
        "        )\n",
        "    )\n",
        "\n",
        "def predict(review: str):\n",
        "  data = DataProcess(review)\n",
        "  input_ids, attention_mask, token_type_ids = data.preprocess_bert()\n",
        "\n",
        "  input_ids = input_ids.to(Config.DEVICE, dtype=torch.long)\n",
        "  attention_mask = attention_mask.to(Config.DEVICE, dtype=torch.long)\n",
        "  token_type_ids = token_type_ids.to(Config.DEVICE, dtype=torch.long)\n",
        "\n",
        "  outputs = model(input_ids, attention_mask, token_type_ids)\n",
        "  positive_prediction = data.preprocess_output(outputs)\n",
        "  negative_prediction = 1 - positive_prediction\n",
        "\n",
        "  return {\n",
        "      \"review\": review,\n",
        "      \"positive\": str(positive_prediction),\n",
        "      \"negative\": str(negative_prediction),\n",
        "  }"
      ]
    },
    {
      "cell_type": "code",
      "execution_count": 15,
      "metadata": {
        "colab": {
          "base_uri": "https://localhost:8080/"
        },
        "id": "P0249ONep08F",
        "outputId": "4e371d6b-8079-4efe-e2c8-968fee90cfe6"
      },
      "outputs": [
        {
          "output_type": "stream",
          "name": "stdout",
          "text": [
            "{'review': 'I like this amazing movie', 'positive': '0.9968694', 'negative': '0.003130614757537842'}\n"
          ]
        }
      ],
      "source": [
        "sentiment = predict(\"I like this amazing movie\")\n",
        "print(sentiment)"
      ]
    },
    {
      "cell_type": "code",
      "execution_count": 15,
      "metadata": {
        "id": "zsPIjca6p3eX"
      },
      "outputs": [],
      "source": []
    },
    {
      "cell_type": "markdown",
      "metadata": {
        "id": "lxGy3zO0p36j"
      },
      "source": [
        "### References:\n",
        "* **Zhilin Yang, Zihang Dai, Yiming Yang, Jaime Carbonell, Ruslan Salakhutdinov, Quoc V. Le. 2019. [XLNet: Generalized Autoregressive Pretraining for Language Understanding](https://arxiv.org/abs/1906.08237). arXiv preprint arXiv:1906.08237.**"
      ]
    }
  ],
  "metadata": {
    "accelerator": "GPU",
    "colab": {
      "provenance": [],
      "gpuType": "T4"
    },
    "kernelspec": {
      "display_name": "Python 3",
      "name": "python3"
    },
    "language_info": {
      "codemirror_mode": {
        "name": "ipython",
        "version": 3
      },
      "file_extension": ".py",
      "mimetype": "text/x-python",
      "name": "python",
      "nbconvert_exporter": "python",
      "pygments_lexer": "ipython3",
      "version": "3.11.4"
    },
    "widgets": {
      "application/vnd.jupyter.widget-state+json": {
        "16b3161c5aed4e0bb286394018a16f25": {
          "model_module": "@jupyter-widgets/controls",
          "model_name": "HBoxModel",
          "model_module_version": "1.5.0",
          "state": {
            "_dom_classes": [],
            "_model_module": "@jupyter-widgets/controls",
            "_model_module_version": "1.5.0",
            "_model_name": "HBoxModel",
            "_view_count": null,
            "_view_module": "@jupyter-widgets/controls",
            "_view_module_version": "1.5.0",
            "_view_name": "HBoxView",
            "box_style": "",
            "children": [
              "IPY_MODEL_62022206f9f84d38946d79c689b86733",
              "IPY_MODEL_c8660f0b6325443c9841607a1df6e61b",
              "IPY_MODEL_51f53a79b67d4fa6bf2f5ecfbcf297f9"
            ],
            "layout": "IPY_MODEL_7f71a8b32ba94025b00aed78618d3870"
          }
        },
        "62022206f9f84d38946d79c689b86733": {
          "model_module": "@jupyter-widgets/controls",
          "model_name": "HTMLModel",
          "model_module_version": "1.5.0",
          "state": {
            "_dom_classes": [],
            "_model_module": "@jupyter-widgets/controls",
            "_model_module_version": "1.5.0",
            "_model_name": "HTMLModel",
            "_view_count": null,
            "_view_module": "@jupyter-widgets/controls",
            "_view_module_version": "1.5.0",
            "_view_name": "HTMLView",
            "description": "",
            "description_tooltip": null,
            "layout": "IPY_MODEL_51aab9e9763244849d19281eec1b7b50",
            "placeholder": "​",
            "style": "IPY_MODEL_db6a2967f573453b9b6b2fa3c4b84a9b",
            "value": "Downloading (…)ve/main/spiece.model: 100%"
          }
        },
        "c8660f0b6325443c9841607a1df6e61b": {
          "model_module": "@jupyter-widgets/controls",
          "model_name": "FloatProgressModel",
          "model_module_version": "1.5.0",
          "state": {
            "_dom_classes": [],
            "_model_module": "@jupyter-widgets/controls",
            "_model_module_version": "1.5.0",
            "_model_name": "FloatProgressModel",
            "_view_count": null,
            "_view_module": "@jupyter-widgets/controls",
            "_view_module_version": "1.5.0",
            "_view_name": "ProgressView",
            "bar_style": "success",
            "description": "",
            "description_tooltip": null,
            "layout": "IPY_MODEL_c4f5cdc85eea42e088bf3ad5d7085f38",
            "max": 798011,
            "min": 0,
            "orientation": "horizontal",
            "style": "IPY_MODEL_dcb0d6f7477e4fffb9144b1212f9ce46",
            "value": 798011
          }
        },
        "51f53a79b67d4fa6bf2f5ecfbcf297f9": {
          "model_module": "@jupyter-widgets/controls",
          "model_name": "HTMLModel",
          "model_module_version": "1.5.0",
          "state": {
            "_dom_classes": [],
            "_model_module": "@jupyter-widgets/controls",
            "_model_module_version": "1.5.0",
            "_model_name": "HTMLModel",
            "_view_count": null,
            "_view_module": "@jupyter-widgets/controls",
            "_view_module_version": "1.5.0",
            "_view_name": "HTMLView",
            "description": "",
            "description_tooltip": null,
            "layout": "IPY_MODEL_477629356dc44c658e1f1570d17826b8",
            "placeholder": "​",
            "style": "IPY_MODEL_928961ae7ff14c109432dd3ab9e98e82",
            "value": " 798k/798k [00:00&lt;00:00, 9.80MB/s]"
          }
        },
        "7f71a8b32ba94025b00aed78618d3870": {
          "model_module": "@jupyter-widgets/base",
          "model_name": "LayoutModel",
          "model_module_version": "1.2.0",
          "state": {
            "_model_module": "@jupyter-widgets/base",
            "_model_module_version": "1.2.0",
            "_model_name": "LayoutModel",
            "_view_count": null,
            "_view_module": "@jupyter-widgets/base",
            "_view_module_version": "1.2.0",
            "_view_name": "LayoutView",
            "align_content": null,
            "align_items": null,
            "align_self": null,
            "border": null,
            "bottom": null,
            "display": null,
            "flex": null,
            "flex_flow": null,
            "grid_area": null,
            "grid_auto_columns": null,
            "grid_auto_flow": null,
            "grid_auto_rows": null,
            "grid_column": null,
            "grid_gap": null,
            "grid_row": null,
            "grid_template_areas": null,
            "grid_template_columns": null,
            "grid_template_rows": null,
            "height": null,
            "justify_content": null,
            "justify_items": null,
            "left": null,
            "margin": null,
            "max_height": null,
            "max_width": null,
            "min_height": null,
            "min_width": null,
            "object_fit": null,
            "object_position": null,
            "order": null,
            "overflow": null,
            "overflow_x": null,
            "overflow_y": null,
            "padding": null,
            "right": null,
            "top": null,
            "visibility": null,
            "width": null
          }
        },
        "51aab9e9763244849d19281eec1b7b50": {
          "model_module": "@jupyter-widgets/base",
          "model_name": "LayoutModel",
          "model_module_version": "1.2.0",
          "state": {
            "_model_module": "@jupyter-widgets/base",
            "_model_module_version": "1.2.0",
            "_model_name": "LayoutModel",
            "_view_count": null,
            "_view_module": "@jupyter-widgets/base",
            "_view_module_version": "1.2.0",
            "_view_name": "LayoutView",
            "align_content": null,
            "align_items": null,
            "align_self": null,
            "border": null,
            "bottom": null,
            "display": null,
            "flex": null,
            "flex_flow": null,
            "grid_area": null,
            "grid_auto_columns": null,
            "grid_auto_flow": null,
            "grid_auto_rows": null,
            "grid_column": null,
            "grid_gap": null,
            "grid_row": null,
            "grid_template_areas": null,
            "grid_template_columns": null,
            "grid_template_rows": null,
            "height": null,
            "justify_content": null,
            "justify_items": null,
            "left": null,
            "margin": null,
            "max_height": null,
            "max_width": null,
            "min_height": null,
            "min_width": null,
            "object_fit": null,
            "object_position": null,
            "order": null,
            "overflow": null,
            "overflow_x": null,
            "overflow_y": null,
            "padding": null,
            "right": null,
            "top": null,
            "visibility": null,
            "width": null
          }
        },
        "db6a2967f573453b9b6b2fa3c4b84a9b": {
          "model_module": "@jupyter-widgets/controls",
          "model_name": "DescriptionStyleModel",
          "model_module_version": "1.5.0",
          "state": {
            "_model_module": "@jupyter-widgets/controls",
            "_model_module_version": "1.5.0",
            "_model_name": "DescriptionStyleModel",
            "_view_count": null,
            "_view_module": "@jupyter-widgets/base",
            "_view_module_version": "1.2.0",
            "_view_name": "StyleView",
            "description_width": ""
          }
        },
        "c4f5cdc85eea42e088bf3ad5d7085f38": {
          "model_module": "@jupyter-widgets/base",
          "model_name": "LayoutModel",
          "model_module_version": "1.2.0",
          "state": {
            "_model_module": "@jupyter-widgets/base",
            "_model_module_version": "1.2.0",
            "_model_name": "LayoutModel",
            "_view_count": null,
            "_view_module": "@jupyter-widgets/base",
            "_view_module_version": "1.2.0",
            "_view_name": "LayoutView",
            "align_content": null,
            "align_items": null,
            "align_self": null,
            "border": null,
            "bottom": null,
            "display": null,
            "flex": null,
            "flex_flow": null,
            "grid_area": null,
            "grid_auto_columns": null,
            "grid_auto_flow": null,
            "grid_auto_rows": null,
            "grid_column": null,
            "grid_gap": null,
            "grid_row": null,
            "grid_template_areas": null,
            "grid_template_columns": null,
            "grid_template_rows": null,
            "height": null,
            "justify_content": null,
            "justify_items": null,
            "left": null,
            "margin": null,
            "max_height": null,
            "max_width": null,
            "min_height": null,
            "min_width": null,
            "object_fit": null,
            "object_position": null,
            "order": null,
            "overflow": null,
            "overflow_x": null,
            "overflow_y": null,
            "padding": null,
            "right": null,
            "top": null,
            "visibility": null,
            "width": null
          }
        },
        "dcb0d6f7477e4fffb9144b1212f9ce46": {
          "model_module": "@jupyter-widgets/controls",
          "model_name": "ProgressStyleModel",
          "model_module_version": "1.5.0",
          "state": {
            "_model_module": "@jupyter-widgets/controls",
            "_model_module_version": "1.5.0",
            "_model_name": "ProgressStyleModel",
            "_view_count": null,
            "_view_module": "@jupyter-widgets/base",
            "_view_module_version": "1.2.0",
            "_view_name": "StyleView",
            "bar_color": null,
            "description_width": ""
          }
        },
        "477629356dc44c658e1f1570d17826b8": {
          "model_module": "@jupyter-widgets/base",
          "model_name": "LayoutModel",
          "model_module_version": "1.2.0",
          "state": {
            "_model_module": "@jupyter-widgets/base",
            "_model_module_version": "1.2.0",
            "_model_name": "LayoutModel",
            "_view_count": null,
            "_view_module": "@jupyter-widgets/base",
            "_view_module_version": "1.2.0",
            "_view_name": "LayoutView",
            "align_content": null,
            "align_items": null,
            "align_self": null,
            "border": null,
            "bottom": null,
            "display": null,
            "flex": null,
            "flex_flow": null,
            "grid_area": null,
            "grid_auto_columns": null,
            "grid_auto_flow": null,
            "grid_auto_rows": null,
            "grid_column": null,
            "grid_gap": null,
            "grid_row": null,
            "grid_template_areas": null,
            "grid_template_columns": null,
            "grid_template_rows": null,
            "height": null,
            "justify_content": null,
            "justify_items": null,
            "left": null,
            "margin": null,
            "max_height": null,
            "max_width": null,
            "min_height": null,
            "min_width": null,
            "object_fit": null,
            "object_position": null,
            "order": null,
            "overflow": null,
            "overflow_x": null,
            "overflow_y": null,
            "padding": null,
            "right": null,
            "top": null,
            "visibility": null,
            "width": null
          }
        },
        "928961ae7ff14c109432dd3ab9e98e82": {
          "model_module": "@jupyter-widgets/controls",
          "model_name": "DescriptionStyleModel",
          "model_module_version": "1.5.0",
          "state": {
            "_model_module": "@jupyter-widgets/controls",
            "_model_module_version": "1.5.0",
            "_model_name": "DescriptionStyleModel",
            "_view_count": null,
            "_view_module": "@jupyter-widgets/base",
            "_view_module_version": "1.2.0",
            "_view_name": "StyleView",
            "description_width": ""
          }
        },
        "2b8ad8e22ed24823abd21befee2e170b": {
          "model_module": "@jupyter-widgets/controls",
          "model_name": "HBoxModel",
          "model_module_version": "1.5.0",
          "state": {
            "_dom_classes": [],
            "_model_module": "@jupyter-widgets/controls",
            "_model_module_version": "1.5.0",
            "_model_name": "HBoxModel",
            "_view_count": null,
            "_view_module": "@jupyter-widgets/controls",
            "_view_module_version": "1.5.0",
            "_view_name": "HBoxView",
            "box_style": "",
            "children": [
              "IPY_MODEL_b93ac2f3423a477580e75571b2ebdb05",
              "IPY_MODEL_0aa022ae8d21463d9db7c4b2696f3fa9",
              "IPY_MODEL_f737543dbe5a41db8316295b98fb9e1b"
            ],
            "layout": "IPY_MODEL_0e4166786b144249938763f138814d45"
          }
        },
        "b93ac2f3423a477580e75571b2ebdb05": {
          "model_module": "@jupyter-widgets/controls",
          "model_name": "HTMLModel",
          "model_module_version": "1.5.0",
          "state": {
            "_dom_classes": [],
            "_model_module": "@jupyter-widgets/controls",
            "_model_module_version": "1.5.0",
            "_model_name": "HTMLModel",
            "_view_count": null,
            "_view_module": "@jupyter-widgets/controls",
            "_view_module_version": "1.5.0",
            "_view_name": "HTMLView",
            "description": "",
            "description_tooltip": null,
            "layout": "IPY_MODEL_253f1fd6c3e044438a2815d930e5f6ab",
            "placeholder": "​",
            "style": "IPY_MODEL_2b32acdc7c974ca9b9c76c98e6559d77",
            "value": "Downloading (…)lve/main/config.json: 100%"
          }
        },
        "0aa022ae8d21463d9db7c4b2696f3fa9": {
          "model_module": "@jupyter-widgets/controls",
          "model_name": "FloatProgressModel",
          "model_module_version": "1.5.0",
          "state": {
            "_dom_classes": [],
            "_model_module": "@jupyter-widgets/controls",
            "_model_module_version": "1.5.0",
            "_model_name": "FloatProgressModel",
            "_view_count": null,
            "_view_module": "@jupyter-widgets/controls",
            "_view_module_version": "1.5.0",
            "_view_name": "ProgressView",
            "bar_style": "success",
            "description": "",
            "description_tooltip": null,
            "layout": "IPY_MODEL_525ee4b696134c64922002999150d638",
            "max": 760,
            "min": 0,
            "orientation": "horizontal",
            "style": "IPY_MODEL_296fa0462b434499b31e5ce320040ad5",
            "value": 760
          }
        },
        "f737543dbe5a41db8316295b98fb9e1b": {
          "model_module": "@jupyter-widgets/controls",
          "model_name": "HTMLModel",
          "model_module_version": "1.5.0",
          "state": {
            "_dom_classes": [],
            "_model_module": "@jupyter-widgets/controls",
            "_model_module_version": "1.5.0",
            "_model_name": "HTMLModel",
            "_view_count": null,
            "_view_module": "@jupyter-widgets/controls",
            "_view_module_version": "1.5.0",
            "_view_name": "HTMLView",
            "description": "",
            "description_tooltip": null,
            "layout": "IPY_MODEL_929b7ccfa4224c4b83ace394cff59f8b",
            "placeholder": "​",
            "style": "IPY_MODEL_62c92aa28d9d4f36aed043f8c62286f2",
            "value": " 760/760 [00:00&lt;00:00, 13.5kB/s]"
          }
        },
        "0e4166786b144249938763f138814d45": {
          "model_module": "@jupyter-widgets/base",
          "model_name": "LayoutModel",
          "model_module_version": "1.2.0",
          "state": {
            "_model_module": "@jupyter-widgets/base",
            "_model_module_version": "1.2.0",
            "_model_name": "LayoutModel",
            "_view_count": null,
            "_view_module": "@jupyter-widgets/base",
            "_view_module_version": "1.2.0",
            "_view_name": "LayoutView",
            "align_content": null,
            "align_items": null,
            "align_self": null,
            "border": null,
            "bottom": null,
            "display": null,
            "flex": null,
            "flex_flow": null,
            "grid_area": null,
            "grid_auto_columns": null,
            "grid_auto_flow": null,
            "grid_auto_rows": null,
            "grid_column": null,
            "grid_gap": null,
            "grid_row": null,
            "grid_template_areas": null,
            "grid_template_columns": null,
            "grid_template_rows": null,
            "height": null,
            "justify_content": null,
            "justify_items": null,
            "left": null,
            "margin": null,
            "max_height": null,
            "max_width": null,
            "min_height": null,
            "min_width": null,
            "object_fit": null,
            "object_position": null,
            "order": null,
            "overflow": null,
            "overflow_x": null,
            "overflow_y": null,
            "padding": null,
            "right": null,
            "top": null,
            "visibility": null,
            "width": null
          }
        },
        "253f1fd6c3e044438a2815d930e5f6ab": {
          "model_module": "@jupyter-widgets/base",
          "model_name": "LayoutModel",
          "model_module_version": "1.2.0",
          "state": {
            "_model_module": "@jupyter-widgets/base",
            "_model_module_version": "1.2.0",
            "_model_name": "LayoutModel",
            "_view_count": null,
            "_view_module": "@jupyter-widgets/base",
            "_view_module_version": "1.2.0",
            "_view_name": "LayoutView",
            "align_content": null,
            "align_items": null,
            "align_self": null,
            "border": null,
            "bottom": null,
            "display": null,
            "flex": null,
            "flex_flow": null,
            "grid_area": null,
            "grid_auto_columns": null,
            "grid_auto_flow": null,
            "grid_auto_rows": null,
            "grid_column": null,
            "grid_gap": null,
            "grid_row": null,
            "grid_template_areas": null,
            "grid_template_columns": null,
            "grid_template_rows": null,
            "height": null,
            "justify_content": null,
            "justify_items": null,
            "left": null,
            "margin": null,
            "max_height": null,
            "max_width": null,
            "min_height": null,
            "min_width": null,
            "object_fit": null,
            "object_position": null,
            "order": null,
            "overflow": null,
            "overflow_x": null,
            "overflow_y": null,
            "padding": null,
            "right": null,
            "top": null,
            "visibility": null,
            "width": null
          }
        },
        "2b32acdc7c974ca9b9c76c98e6559d77": {
          "model_module": "@jupyter-widgets/controls",
          "model_name": "DescriptionStyleModel",
          "model_module_version": "1.5.0",
          "state": {
            "_model_module": "@jupyter-widgets/controls",
            "_model_module_version": "1.5.0",
            "_model_name": "DescriptionStyleModel",
            "_view_count": null,
            "_view_module": "@jupyter-widgets/base",
            "_view_module_version": "1.2.0",
            "_view_name": "StyleView",
            "description_width": ""
          }
        },
        "525ee4b696134c64922002999150d638": {
          "model_module": "@jupyter-widgets/base",
          "model_name": "LayoutModel",
          "model_module_version": "1.2.0",
          "state": {
            "_model_module": "@jupyter-widgets/base",
            "_model_module_version": "1.2.0",
            "_model_name": "LayoutModel",
            "_view_count": null,
            "_view_module": "@jupyter-widgets/base",
            "_view_module_version": "1.2.0",
            "_view_name": "LayoutView",
            "align_content": null,
            "align_items": null,
            "align_self": null,
            "border": null,
            "bottom": null,
            "display": null,
            "flex": null,
            "flex_flow": null,
            "grid_area": null,
            "grid_auto_columns": null,
            "grid_auto_flow": null,
            "grid_auto_rows": null,
            "grid_column": null,
            "grid_gap": null,
            "grid_row": null,
            "grid_template_areas": null,
            "grid_template_columns": null,
            "grid_template_rows": null,
            "height": null,
            "justify_content": null,
            "justify_items": null,
            "left": null,
            "margin": null,
            "max_height": null,
            "max_width": null,
            "min_height": null,
            "min_width": null,
            "object_fit": null,
            "object_position": null,
            "order": null,
            "overflow": null,
            "overflow_x": null,
            "overflow_y": null,
            "padding": null,
            "right": null,
            "top": null,
            "visibility": null,
            "width": null
          }
        },
        "296fa0462b434499b31e5ce320040ad5": {
          "model_module": "@jupyter-widgets/controls",
          "model_name": "ProgressStyleModel",
          "model_module_version": "1.5.0",
          "state": {
            "_model_module": "@jupyter-widgets/controls",
            "_model_module_version": "1.5.0",
            "_model_name": "ProgressStyleModel",
            "_view_count": null,
            "_view_module": "@jupyter-widgets/base",
            "_view_module_version": "1.2.0",
            "_view_name": "StyleView",
            "bar_color": null,
            "description_width": ""
          }
        },
        "929b7ccfa4224c4b83ace394cff59f8b": {
          "model_module": "@jupyter-widgets/base",
          "model_name": "LayoutModel",
          "model_module_version": "1.2.0",
          "state": {
            "_model_module": "@jupyter-widgets/base",
            "_model_module_version": "1.2.0",
            "_model_name": "LayoutModel",
            "_view_count": null,
            "_view_module": "@jupyter-widgets/base",
            "_view_module_version": "1.2.0",
            "_view_name": "LayoutView",
            "align_content": null,
            "align_items": null,
            "align_self": null,
            "border": null,
            "bottom": null,
            "display": null,
            "flex": null,
            "flex_flow": null,
            "grid_area": null,
            "grid_auto_columns": null,
            "grid_auto_flow": null,
            "grid_auto_rows": null,
            "grid_column": null,
            "grid_gap": null,
            "grid_row": null,
            "grid_template_areas": null,
            "grid_template_columns": null,
            "grid_template_rows": null,
            "height": null,
            "justify_content": null,
            "justify_items": null,
            "left": null,
            "margin": null,
            "max_height": null,
            "max_width": null,
            "min_height": null,
            "min_width": null,
            "object_fit": null,
            "object_position": null,
            "order": null,
            "overflow": null,
            "overflow_x": null,
            "overflow_y": null,
            "padding": null,
            "right": null,
            "top": null,
            "visibility": null,
            "width": null
          }
        },
        "62c92aa28d9d4f36aed043f8c62286f2": {
          "model_module": "@jupyter-widgets/controls",
          "model_name": "DescriptionStyleModel",
          "model_module_version": "1.5.0",
          "state": {
            "_model_module": "@jupyter-widgets/controls",
            "_model_module_version": "1.5.0",
            "_model_name": "DescriptionStyleModel",
            "_view_count": null,
            "_view_module": "@jupyter-widgets/base",
            "_view_module_version": "1.2.0",
            "_view_name": "StyleView",
            "description_width": ""
          }
        },
        "ddb4cda3764e47fb8237255e407e92f3": {
          "model_module": "@jupyter-widgets/controls",
          "model_name": "HBoxModel",
          "model_module_version": "1.5.0",
          "state": {
            "_dom_classes": [],
            "_model_module": "@jupyter-widgets/controls",
            "_model_module_version": "1.5.0",
            "_model_name": "HBoxModel",
            "_view_count": null,
            "_view_module": "@jupyter-widgets/controls",
            "_view_module_version": "1.5.0",
            "_view_name": "HBoxView",
            "box_style": "",
            "children": [
              "IPY_MODEL_49ca51f63eb84e279bbc61a0039c5478",
              "IPY_MODEL_f624cfcc9c3d469799a495fcc7ad3124",
              "IPY_MODEL_b77652e2fe054a8385396bb9a602fde4"
            ],
            "layout": "IPY_MODEL_e563ef7ba5704afea7803be68dcda05d"
          }
        },
        "49ca51f63eb84e279bbc61a0039c5478": {
          "model_module": "@jupyter-widgets/controls",
          "model_name": "HTMLModel",
          "model_module_version": "1.5.0",
          "state": {
            "_dom_classes": [],
            "_model_module": "@jupyter-widgets/controls",
            "_model_module_version": "1.5.0",
            "_model_name": "HTMLModel",
            "_view_count": null,
            "_view_module": "@jupyter-widgets/controls",
            "_view_module_version": "1.5.0",
            "_view_name": "HTMLView",
            "description": "",
            "description_tooltip": null,
            "layout": "IPY_MODEL_30cf734230664d86bac45491125eee3c",
            "placeholder": "​",
            "style": "IPY_MODEL_4ea41b4a39a448ad82f223b8bde75618",
            "value": "Downloading pytorch_model.bin: 100%"
          }
        },
        "f624cfcc9c3d469799a495fcc7ad3124": {
          "model_module": "@jupyter-widgets/controls",
          "model_name": "FloatProgressModel",
          "model_module_version": "1.5.0",
          "state": {
            "_dom_classes": [],
            "_model_module": "@jupyter-widgets/controls",
            "_model_module_version": "1.5.0",
            "_model_name": "FloatProgressModel",
            "_view_count": null,
            "_view_module": "@jupyter-widgets/controls",
            "_view_module_version": "1.5.0",
            "_view_name": "ProgressView",
            "bar_style": "success",
            "description": "",
            "description_tooltip": null,
            "layout": "IPY_MODEL_9692a1a7b4084bf2a5c29da96012ea3c",
            "max": 467042463,
            "min": 0,
            "orientation": "horizontal",
            "style": "IPY_MODEL_8f2282cb0a744c6fb6894266789ec01e",
            "value": 467042463
          }
        },
        "b77652e2fe054a8385396bb9a602fde4": {
          "model_module": "@jupyter-widgets/controls",
          "model_name": "HTMLModel",
          "model_module_version": "1.5.0",
          "state": {
            "_dom_classes": [],
            "_model_module": "@jupyter-widgets/controls",
            "_model_module_version": "1.5.0",
            "_model_name": "HTMLModel",
            "_view_count": null,
            "_view_module": "@jupyter-widgets/controls",
            "_view_module_version": "1.5.0",
            "_view_name": "HTMLView",
            "description": "",
            "description_tooltip": null,
            "layout": "IPY_MODEL_513d13b584b64ecb83d58250ee67c761",
            "placeholder": "​",
            "style": "IPY_MODEL_5d65079effb14a2d9ffaefdf9754f69a",
            "value": " 467M/467M [00:02&lt;00:00, 235MB/s]"
          }
        },
        "e563ef7ba5704afea7803be68dcda05d": {
          "model_module": "@jupyter-widgets/base",
          "model_name": "LayoutModel",
          "model_module_version": "1.2.0",
          "state": {
            "_model_module": "@jupyter-widgets/base",
            "_model_module_version": "1.2.0",
            "_model_name": "LayoutModel",
            "_view_count": null,
            "_view_module": "@jupyter-widgets/base",
            "_view_module_version": "1.2.0",
            "_view_name": "LayoutView",
            "align_content": null,
            "align_items": null,
            "align_self": null,
            "border": null,
            "bottom": null,
            "display": null,
            "flex": null,
            "flex_flow": null,
            "grid_area": null,
            "grid_auto_columns": null,
            "grid_auto_flow": null,
            "grid_auto_rows": null,
            "grid_column": null,
            "grid_gap": null,
            "grid_row": null,
            "grid_template_areas": null,
            "grid_template_columns": null,
            "grid_template_rows": null,
            "height": null,
            "justify_content": null,
            "justify_items": null,
            "left": null,
            "margin": null,
            "max_height": null,
            "max_width": null,
            "min_height": null,
            "min_width": null,
            "object_fit": null,
            "object_position": null,
            "order": null,
            "overflow": null,
            "overflow_x": null,
            "overflow_y": null,
            "padding": null,
            "right": null,
            "top": null,
            "visibility": null,
            "width": null
          }
        },
        "30cf734230664d86bac45491125eee3c": {
          "model_module": "@jupyter-widgets/base",
          "model_name": "LayoutModel",
          "model_module_version": "1.2.0",
          "state": {
            "_model_module": "@jupyter-widgets/base",
            "_model_module_version": "1.2.0",
            "_model_name": "LayoutModel",
            "_view_count": null,
            "_view_module": "@jupyter-widgets/base",
            "_view_module_version": "1.2.0",
            "_view_name": "LayoutView",
            "align_content": null,
            "align_items": null,
            "align_self": null,
            "border": null,
            "bottom": null,
            "display": null,
            "flex": null,
            "flex_flow": null,
            "grid_area": null,
            "grid_auto_columns": null,
            "grid_auto_flow": null,
            "grid_auto_rows": null,
            "grid_column": null,
            "grid_gap": null,
            "grid_row": null,
            "grid_template_areas": null,
            "grid_template_columns": null,
            "grid_template_rows": null,
            "height": null,
            "justify_content": null,
            "justify_items": null,
            "left": null,
            "margin": null,
            "max_height": null,
            "max_width": null,
            "min_height": null,
            "min_width": null,
            "object_fit": null,
            "object_position": null,
            "order": null,
            "overflow": null,
            "overflow_x": null,
            "overflow_y": null,
            "padding": null,
            "right": null,
            "top": null,
            "visibility": null,
            "width": null
          }
        },
        "4ea41b4a39a448ad82f223b8bde75618": {
          "model_module": "@jupyter-widgets/controls",
          "model_name": "DescriptionStyleModel",
          "model_module_version": "1.5.0",
          "state": {
            "_model_module": "@jupyter-widgets/controls",
            "_model_module_version": "1.5.0",
            "_model_name": "DescriptionStyleModel",
            "_view_count": null,
            "_view_module": "@jupyter-widgets/base",
            "_view_module_version": "1.2.0",
            "_view_name": "StyleView",
            "description_width": ""
          }
        },
        "9692a1a7b4084bf2a5c29da96012ea3c": {
          "model_module": "@jupyter-widgets/base",
          "model_name": "LayoutModel",
          "model_module_version": "1.2.0",
          "state": {
            "_model_module": "@jupyter-widgets/base",
            "_model_module_version": "1.2.0",
            "_model_name": "LayoutModel",
            "_view_count": null,
            "_view_module": "@jupyter-widgets/base",
            "_view_module_version": "1.2.0",
            "_view_name": "LayoutView",
            "align_content": null,
            "align_items": null,
            "align_self": null,
            "border": null,
            "bottom": null,
            "display": null,
            "flex": null,
            "flex_flow": null,
            "grid_area": null,
            "grid_auto_columns": null,
            "grid_auto_flow": null,
            "grid_auto_rows": null,
            "grid_column": null,
            "grid_gap": null,
            "grid_row": null,
            "grid_template_areas": null,
            "grid_template_columns": null,
            "grid_template_rows": null,
            "height": null,
            "justify_content": null,
            "justify_items": null,
            "left": null,
            "margin": null,
            "max_height": null,
            "max_width": null,
            "min_height": null,
            "min_width": null,
            "object_fit": null,
            "object_position": null,
            "order": null,
            "overflow": null,
            "overflow_x": null,
            "overflow_y": null,
            "padding": null,
            "right": null,
            "top": null,
            "visibility": null,
            "width": null
          }
        },
        "8f2282cb0a744c6fb6894266789ec01e": {
          "model_module": "@jupyter-widgets/controls",
          "model_name": "ProgressStyleModel",
          "model_module_version": "1.5.0",
          "state": {
            "_model_module": "@jupyter-widgets/controls",
            "_model_module_version": "1.5.0",
            "_model_name": "ProgressStyleModel",
            "_view_count": null,
            "_view_module": "@jupyter-widgets/base",
            "_view_module_version": "1.2.0",
            "_view_name": "StyleView",
            "bar_color": null,
            "description_width": ""
          }
        },
        "513d13b584b64ecb83d58250ee67c761": {
          "model_module": "@jupyter-widgets/base",
          "model_name": "LayoutModel",
          "model_module_version": "1.2.0",
          "state": {
            "_model_module": "@jupyter-widgets/base",
            "_model_module_version": "1.2.0",
            "_model_name": "LayoutModel",
            "_view_count": null,
            "_view_module": "@jupyter-widgets/base",
            "_view_module_version": "1.2.0",
            "_view_name": "LayoutView",
            "align_content": null,
            "align_items": null,
            "align_self": null,
            "border": null,
            "bottom": null,
            "display": null,
            "flex": null,
            "flex_flow": null,
            "grid_area": null,
            "grid_auto_columns": null,
            "grid_auto_flow": null,
            "grid_auto_rows": null,
            "grid_column": null,
            "grid_gap": null,
            "grid_row": null,
            "grid_template_areas": null,
            "grid_template_columns": null,
            "grid_template_rows": null,
            "height": null,
            "justify_content": null,
            "justify_items": null,
            "left": null,
            "margin": null,
            "max_height": null,
            "max_width": null,
            "min_height": null,
            "min_width": null,
            "object_fit": null,
            "object_position": null,
            "order": null,
            "overflow": null,
            "overflow_x": null,
            "overflow_y": null,
            "padding": null,
            "right": null,
            "top": null,
            "visibility": null,
            "width": null
          }
        },
        "5d65079effb14a2d9ffaefdf9754f69a": {
          "model_module": "@jupyter-widgets/controls",
          "model_name": "DescriptionStyleModel",
          "model_module_version": "1.5.0",
          "state": {
            "_model_module": "@jupyter-widgets/controls",
            "_model_module_version": "1.5.0",
            "_model_name": "DescriptionStyleModel",
            "_view_count": null,
            "_view_module": "@jupyter-widgets/base",
            "_view_module_version": "1.2.0",
            "_view_name": "StyleView",
            "description_width": ""
          }
        }
      }
    }
  },
  "nbformat": 4,
  "nbformat_minor": 0
}