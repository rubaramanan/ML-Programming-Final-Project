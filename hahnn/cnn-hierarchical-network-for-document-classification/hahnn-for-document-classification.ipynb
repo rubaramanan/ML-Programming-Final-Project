{
  "cells": [
    {
      "cell_type": "markdown",
      "metadata": {
        "colab_type": "text",
        "id": "EjNTyCbkZcKM"
      },
      "source": [
        "# Hierarchical Attentional Hybrid Neural Networks for Document Classification\n",
        "\n",
        "Document classification is a challenging task with important applications. Deep learning approaches to the problem have gained much attention. Despite the progress, the proposed models do not incorporate the knowledge of the document structure in the architecture efficiently and not take into account the contexting dependent importance of words and sentences. In this paper, we propose a new approach based on convolutional neural networks, gated recurrent units and attention mechanisms for document classification tasks. The datasets IMDB Movie Reviews and Yelp were used in experiments. The proposed method improves the results of current attention-based approaches\n",
        "\n",
        "Please, cite:\n",
        "\n",
        "Abreu, J., Fred, L., Macêdo, D., & Zanchettin, C. (2019). Hierarchical Attentional Hybrid Neural Networks for Document Classification. arXiv preprint arXiv:1901.06610."
      ]
    },
    {
      "cell_type": "markdown",
      "metadata": {
        "colab_type": "text",
        "id": "dzZHZGMH4X5-"
      },
      "source": [
        "# Prompts for kaggle username and API key\n",
        "\n",
        "Displays a field in prompt and waits for the user to input your kaggle username. By press ENTER, other field prompts for input Kaggle API key."
      ]
    },
    {
      "cell_type": "code",
      "execution_count": 1,
      "metadata": {
        "colab": {
          "base_uri": "https://localhost:8080/",
          "height": 51
        },
        "colab_type": "code",
        "id": "J4z5K6u43ey_",
        "outputId": "373cd022-248c-40f7-9a9d-f0be8682e925"
      },
      "outputs": [],
      "source": [
        "# import os\n",
        "# from getpass import getpass\n",
        "\n",
        "# user = getpass('Kaggle Username: ')\n",
        "# key = getpass('Kaggle API key: ')\n",
        "\n",
        "# if '.kaggle' not in os.listdir('/root'):\n",
        "#     !mkdir ~/.kaggle\n",
        "    \n",
        "# !touch /root/.kaggle/kaggle.json\n",
        "# !chmod 666 /root/.kaggle/kaggle.json\n",
        "\n",
        "# with open('/root/.kaggle/kaggle.json', 'w') as f:\n",
        "#     f.write('{\"username\":\"%s\",\"key\":\"%s\"}' % (user, key))\n",
        "# !chmod 600 /root/.kaggle/kaggle.json"
      ]
    },
    {
      "cell_type": "markdown",
      "metadata": {
        "colab_type": "text",
        "id": "4_pgmoOw4gkH"
      },
      "source": [
        "# Download dataset"
      ]
    },
    {
      "cell_type": "code",
      "execution_count": 2,
      "metadata": {
        "colab": {
          "base_uri": "https://localhost:8080/",
          "height": 119
        },
        "colab_type": "code",
        "id": "n-mnEILI3hRR",
        "outputId": "9493a976-404e-4dfd-bc4f-7f69274aa1b9"
      },
      "outputs": [],
      "source": [
        "# !kaggle datasets download -d luisfredgs/hahnn-for-document-classification\n",
        "# !unzip -o hahnn-for-document-classification.zip\n",
        "# # fixing in 400k reviews\n",
        "# !head -n400000 yelp_reviews.json > yelp_reviews_sampling.json"
      ]
    },
    {
      "cell_type": "code",
      "execution_count": 3,
      "metadata": {
        "cellView": "form",
        "colab": {},
        "colab_type": "code",
        "id": "GOqzxs-ynuCb",
        "trusted": true
      },
      "outputs": [],
      "source": [
        "dataset = \"imdb\" #@param [\"yelp\", \"imdb\"]\n",
        "\n",
        "word_embedding_type = \"from_scratch\" #@param [\"from_scratch\", \"pre_trained\"]\n",
        "word_vector_model = \"fasttext\" #@param [\"fasttext\"]\n",
        "rnn_type = \"LSTM\" #@param [\"LSTM\", \"GRU\"]\n",
        "learning_rate = 0.001\n",
        "epochs = 8\n",
        "batch_size = 64"
      ]
    },
    {
      "cell_type": "markdown",
      "metadata": {
        "colab_type": "text",
        "id": "IFyTXuEK9TJ3"
      },
      "source": [
        "# Imports"
      ]
    },
    {
      "cell_type": "code",
      "execution_count": 4,
      "metadata": {
        "colab": {
          "base_uri": "https://localhost:8080/",
          "height": 0
        },
        "colab_type": "code",
        "id": "n4g5Ufug8kyi",
        "outputId": "1146b9d9-58e7-49e5-fa89-7be63c7cb0cd",
        "trusted": true
      },
      "outputs": [
        {
          "name": "stderr",
          "output_type": "stream",
          "text": [
            "Using TensorFlow backend.\n",
            "c:\\Users\\Acer\\anaconda3\\envs\\tfold1\\lib\\site-packages\\tensorflow\\python\\framework\\dtypes.py:523: FutureWarning: Passing (type, 1) or '1type' as a synonym of type is deprecated; in a future version of numpy, it will be understood as (type, (1,)) / '(1,)type'.\n",
            "  _np_qint8 = np.dtype([(\"qint8\", np.int8, 1)])\n",
            "c:\\Users\\Acer\\anaconda3\\envs\\tfold1\\lib\\site-packages\\tensorflow\\python\\framework\\dtypes.py:524: FutureWarning: Passing (type, 1) or '1type' as a synonym of type is deprecated; in a future version of numpy, it will be understood as (type, (1,)) / '(1,)type'.\n",
            "  _np_quint8 = np.dtype([(\"quint8\", np.uint8, 1)])\n",
            "c:\\Users\\Acer\\anaconda3\\envs\\tfold1\\lib\\site-packages\\tensorflow\\python\\framework\\dtypes.py:525: FutureWarning: Passing (type, 1) or '1type' as a synonym of type is deprecated; in a future version of numpy, it will be understood as (type, (1,)) / '(1,)type'.\n",
            "  _np_qint16 = np.dtype([(\"qint16\", np.int16, 1)])\n",
            "c:\\Users\\Acer\\anaconda3\\envs\\tfold1\\lib\\site-packages\\tensorflow\\python\\framework\\dtypes.py:526: FutureWarning: Passing (type, 1) or '1type' as a synonym of type is deprecated; in a future version of numpy, it will be understood as (type, (1,)) / '(1,)type'.\n",
            "  _np_quint16 = np.dtype([(\"quint16\", np.uint16, 1)])\n",
            "c:\\Users\\Acer\\anaconda3\\envs\\tfold1\\lib\\site-packages\\tensorflow\\python\\framework\\dtypes.py:527: FutureWarning: Passing (type, 1) or '1type' as a synonym of type is deprecated; in a future version of numpy, it will be understood as (type, (1,)) / '(1,)type'.\n",
            "  _np_qint32 = np.dtype([(\"qint32\", np.int32, 1)])\n",
            "c:\\Users\\Acer\\anaconda3\\envs\\tfold1\\lib\\site-packages\\tensorflow\\python\\framework\\dtypes.py:532: FutureWarning: Passing (type, 1) or '1type' as a synonym of type is deprecated; in a future version of numpy, it will be understood as (type, (1,)) / '(1,)type'.\n",
            "  np_resource = np.dtype([(\"resource\", np.ubyte, 1)])\n",
            "c:\\Users\\Acer\\anaconda3\\envs\\tfold1\\lib\\site-packages\\paramiko\\transport.py:32: CryptographyDeprecationWarning: Python 3.6 is no longer supported by the Python core team. Therefore, support for it is deprecated in cryptography. The next release of cryptography will remove support for Python 3.6.\n",
            "  from cryptography.hazmat.backends import default_backend\n",
            "[nltk_data] Downloading package punkt to\n",
            "[nltk_data]     C:\\Users\\Acer\\AppData\\Roaming\\nltk_data...\n",
            "[nltk_data]   Package punkt is already up-to-date!\n",
            "[nltk_data] Downloading package stopwords to\n",
            "[nltk_data]     C:\\Users\\Acer\\AppData\\Roaming\\nltk_data...\n",
            "[nltk_data]   Package stopwords is already up-to-date!\n"
          ]
        }
      ],
      "source": [
        "# !pip -q install gensim\n",
        "# !python -m spacy download en_core_web_md\n",
        "# !pip -q install paramiko\n",
        "\n",
        "import datetime, pickle, os, codecs, re, string\n",
        "import json\n",
        "import random\n",
        "import numpy as np\n",
        "import keras\n",
        "import h5py\n",
        "import tensorflow\n",
        "from keras.models import *\n",
        "from keras.layers import *\n",
        "from keras.optimizers import *\n",
        "from keras.callbacks import *\n",
        "from keras import regularizers\n",
        "from keras.preprocessing.text import Tokenizer\n",
        "from keras.preprocessing.sequence import pad_sequences\n",
        "from keras import backend as K\n",
        "from keras.utils import CustomObjectScope\n",
        "from keras.engine.topology import Layer\n",
        "# from keras.utils.layer_utils import Layer\n",
        "\n",
        "#\n",
        "from keras.engine import InputSpec\n",
        "\n",
        "from keras import initializers\n",
        "\n",
        "import pandas as pd\n",
        "from tqdm import tqdm\n",
        "\n",
        "import string\n",
        "from spacy.lang.en import English\n",
        "import gensim, nltk, logging\n",
        "\n",
        "from nltk.corpus import stopwords\n",
        "from nltk import tokenize\n",
        "from nltk.stem import SnowballStemmer\n",
        "\n",
        "nltk.download('punkt')\n",
        "nltk.download('stopwords')\n",
        "\n",
        "from sklearn.manifold import TSNE\n",
        "import matplotlib.pyplot as plt\n",
        "# import en_core_web_sm\n",
        "import spacy\n",
        "\n",
        "from IPython.display import HTML, display\n",
        "\n",
        "import tensorflow as tf\n",
        "\n",
        "from numpy.random import seed\n",
        "from tensorflow import set_random_seed\n",
        "os.environ['PYTHONHASHSEED'] = str(1024)\n",
        "set_random_seed(1024)\n",
        "seed(1024)\n",
        "np.random.seed(1024)\n",
        "random.seed(1024)"
      ]
    },
    {
      "cell_type": "markdown",
      "metadata": {
        "colab_type": "text",
        "id": "5exIp4egmwwA"
      },
      "source": [
        "# Text preprocessing"
      ]
    },
    {
      "cell_type": "code",
      "execution_count": 5,
      "metadata": {
        "colab": {},
        "colab_type": "code",
        "id": "zY1TBBBbqEbp",
        "trusted": true
      },
      "outputs": [],
      "source": [
        "def clean_str(string):\n",
        "    string = re.sub(r\"\\'s\", \" \\'s\", string)\n",
        "    string = re.sub(r\"\\'ve\", \" \\'ve\", string)\n",
        "    string = re.sub(r\"n\\'t\", \" n\\'t\", string)\n",
        "    string = re.sub(r\"\\'re\", \" \\'re\", string)\n",
        "    string = re.sub(r\"\\'d\", \" \\'d\", string)\n",
        "    string = re.sub(r\"\\'ll\", \" \\'ll\", string)\n",
        "    string = re.sub(r\",\", \" , \", string)\n",
        "    string = re.sub(r\"!\", \" ! \", string)\n",
        "    string = re.sub(r\"\\(\", \" \\( \", string)\n",
        "    string = re.sub(r\"\\)\", \" \\) \", string)\n",
        "    string = re.sub(r\"\\?\", \" \\? \", string)\n",
        "    string = re.sub(r\"\\s{2,}\", \" \", string)\n",
        "\n",
        "    cleanr = re.compile('<.*?>')\n",
        "\n",
        "    # string = re.sub(r'\\d+', '', string)\n",
        "    string = re.sub(cleanr, '', string)\n",
        "    # string = re.sub(\"'\", '', string)\n",
        "    # string = re.sub(r'\\W+', ' ', string)\n",
        "    string = string.replace('_', '')\n",
        "\n",
        "\n",
        "    return string.strip().lower()"
      ]
    },
    {
      "cell_type": "markdown",
      "metadata": {
        "colab_type": "text",
        "id": "JLle9TkY1T_X"
      },
      "source": [
        "# Use pre-trained word embeddings"
      ]
    },
    {
      "cell_type": "code",
      "execution_count": 6,
      "metadata": {
        "colab": {},
        "colab_type": "code",
        "id": "oLodIgWw14kC",
        "trusted": true
      },
      "outputs": [],
      "source": [
        "def load_subword_embedding_300d(word_index):\n",
        "    print('load_subword_embedding...')\n",
        "    embeddings_index = {}\n",
        "    f = codecs.open(\"wiki-news-300d-1M-subword.vec\", encoding='utf-8')\n",
        "    for line in tqdm(f):\n",
        "        values = line.rstrip().rsplit(' ')\n",
        "        word = values[0]\n",
        "        coefs = np.asarray(values[1:], dtype='float32')\n",
        "        embeddings_index[word] = coefs\n",
        "    f.close()\n",
        "    print('found %s word vectors' % len(embeddings_index))\n",
        "    \n",
        "    #embedding matrix\n",
        "    print('preparing embedding matrix...')\n",
        "    words_not_found = []\n",
        "    \n",
        "    embedding_matrix = np.zeros((len(word_index) + 1, 300))\n",
        "    \n",
        "    for word, i in word_index.items():\n",
        "        embedding_vector = embeddings_index.get(word)\n",
        "        if (embedding_vector is not None) and len(embedding_vector) > 0:\n",
        "            \n",
        "            embedding_matrix[i] = embedding_vector\n",
        "        else:\n",
        "            words_not_found.append(word)\n",
        "    \n",
        "    return embedding_matrix"
      ]
    },
    {
      "cell_type": "markdown",
      "metadata": {
        "colab_type": "text",
        "id": "voCjs6ewiSoF"
      },
      "source": [
        "# Plot word embedding chart"
      ]
    },
    {
      "cell_type": "code",
      "execution_count": 7,
      "metadata": {
        "colab": {},
        "colab_type": "code",
        "id": "0rXXQmEMibaF",
        "trusted": true
      },
      "outputs": [],
      "source": [
        "def plot_with_labels(low_dim_embs, labels, filename='tsne.png'):    \n",
        "    plt.figure(figsize=(18, 18))\n",
        "    for i, label in enumerate(labels):\n",
        "        x, y = low_dim_embs[i, :]\n",
        "        plt.scatter(x, y)\n",
        "        plt.annotate(label,\n",
        "                 xy=(x, y),\n",
        "                 xytext=(5, 2),\n",
        "                 textcoords='offset points',\n",
        "                 ha='right',\n",
        "                 va='bottom')\n",
        "    plt.savefig(filename)"
      ]
    },
    {
      "cell_type": "markdown",
      "metadata": {
        "colab_type": "text",
        "id": "QTR1_43CqGSW"
      },
      "source": [
        "# Normalize texts"
      ]
    },
    {
      "cell_type": "code",
      "execution_count": 8,
      "metadata": {
        "colab": {},
        "colab_type": "code",
        "id": "ePLZEjNxqPKe",
        "trusted": true
      },
      "outputs": [],
      "source": [
        "nlp = spacy.load('en_core_web_md')\n",
        "\n",
        "\n",
        "puncts = [',', '.', '\"', ':', ')', '(', '-', '!', '?', '|', ';', \"'\", '$', '&', '/', '[', ']', '>', '%', '=', '#', '*', '+', '\\\\', '•',  '~', '@', '£', \n",
        " '·', '_', '{', '}', '©', '^', '®', '`',  '<', '→', '°', '€', '™', '›',  '♥', '←', '×', '§', '″', '′', 'Â', '█', '½', 'à', '…', \n",
        " '“', '★', '”', '–', '●', 'â', '►', '−', '¢', '²', '¬', '░', '¶', '↑', '±', '¿', '▾', '═', '¦', '║', '―', '¥', '▓', '—', '‹', '─', \n",
        " '▒', '：', '¼', '⊕', '▼', '▪', '†', '■', '’', '▀', '¨', '▄', '♫', '☆', 'é', '¯', '♦', '¤', '▲', 'è', '¸', '¾', 'Ã', '⋅', '‘', '∞', \n",
        " '∙', '）', '↓', '、', '│', '（', '»', '，', '♪', '╩', '╚', '³', '・', '╦', '╣', '╔', '╗', '▬', '❤', 'ï', 'Ø', '¹', '≤', '‡', '√', '#', '—–']\n",
        "\n",
        "\n",
        "def clean_puncts(x):\n",
        "    x = str(x)\n",
        "    for punct in puncts:\n",
        "        x = x.replace(punct, f' {punct} ')\n",
        "    return x\n",
        "\n",
        "def remove_stopwords(text):\n",
        "    text = str(text)    \n",
        "    ## Convert words to lower case and split them\n",
        "    text = text.lower().split()\n",
        "    \n",
        "    ## Remove stop words\n",
        "    stops = set(stopwords.words(\"english\"))\n",
        "    text = [w for w in text if not w in stops and len(w) >= 3]\n",
        "    text = \" \".join(text)\n",
        "    \n",
        "    return text\n",
        "\n",
        "\n",
        "def normalize(text):\n",
        "    text = text.lower().strip()\n",
        "    doc = nlp(text)\n",
        "    filtered_sentences = []\n",
        "    for sentence in doc.sents:                    \n",
        "        sentence = clean_puncts(sentence)\n",
        "        sentence = clean_str(sentence)            \n",
        "        #sentence = remove_stopwords(sentence)                \n",
        "        filtered_sentences.append(sentence)\n",
        "    return filtered_sentences"
      ]
    },
    {
      "cell_type": "markdown",
      "metadata": {
        "colab_type": "text",
        "id": "Iu_O63OD2h8P"
      },
      "source": [
        "# Training word embeddings"
      ]
    },
    {
      "cell_type": "code",
      "execution_count": 9,
      "metadata": {
        "colab": {},
        "colab_type": "code",
        "id": "HXyS2m7C2pZ7",
        "trusted": true
      },
      "outputs": [],
      "source": [
        "def create_fasttext(embed_dim, data):\n",
        "    \n",
        "    filename = './fasttext_model.txt'\n",
        "    \n",
        "    if not os.path.isfile(filename):    \n",
        "        print('create_fasttext...')\n",
        "        sent_lst = []\n",
        "\n",
        "        for doc in data['text']:\n",
        "            doc = clean_str(doc)\n",
        "            sentences = nltk.tokenize.sent_tokenize(doc)\n",
        "            for sent in sentences:\n",
        "                word_lst = [w for w in nltk.tokenize.word_tokenize(sent) if w.isalnum()]\n",
        "                sent_lst.append(word_lst)\n",
        "\n",
        "\n",
        "        logging.basicConfig(format='%(asctime)s : %(levelname)s : %(message)s', level=logging.INFO)\n",
        "\n",
        "        fasttext_model = gensim.models.FastText(\n",
        "            word_ngrams=1,\n",
        "            sentences=sent_lst, \n",
        "            vector_size = embed_dim, \n",
        "            workers=os.cpu_count(), \n",
        "            window = 1)\n",
        "        fasttext_model.save(\"./fasttext_model.txt\")"
      ]
    },
    {
      "cell_type": "markdown",
      "metadata": {
        "colab_type": "text",
        "id": "724247Q4phPE"
      },
      "source": [
        "# Load datasets\n",
        "\n",
        "**1)** Yelp Dataset with 500k reviews\n",
        "\n",
        "**2)** IMDb with 50k reviews"
      ]
    },
    {
      "cell_type": "code",
      "execution_count": 10,
      "metadata": {
        "colab": {},
        "colab_type": "code",
        "id": "0Owr7XARpnO7",
        "trusted": true
      },
      "outputs": [],
      "source": [
        "def load_data_yelp(path, train_ratio=1, size=400000):\n",
        "    vector_dim = 200\n",
        "    dim = 5\n",
        "    \n",
        "    with open(path) as f:\n",
        "        reviews=f.read().strip().split(\"\\n\")\n",
        "        \n",
        "    df = pd.DataFrame([json.loads(review) for review in reviews])        \n",
        "\n",
        "    text_tokens = []\n",
        "    for row in tqdm(df['text']):    \n",
        "        text_tokens.append(normalize(row))  \n",
        "    \n",
        "    df['text_tokens'] = text_tokens    \n",
        "    del text_tokens\n",
        "    \n",
        "    vector_dim = 200     \n",
        "    if word_embedding_type is 'from_scratch':\n",
        "        create_fasttext(vector_dim, df)\n",
        "        \n",
        "    ###\n",
        "    \n",
        "    X = df['text_tokens'].values\n",
        "    Y = pd.get_dummies(df['stars']).values\n",
        "    \n",
        "    return (X, Y)\n",
        "\n",
        "def load_data_imdb(path, size=49000, train_ratio=1):    \n",
        "    df = pd.read_csv(path, nrows=size, usecols=['text', 'sentiment'])        \n",
        "    \n",
        "    vector_dim = 200 \n",
        "    \n",
        "    if word_embedding_type is 'from_scratch':\n",
        "        # Fasttext\n",
        "        create_fasttext(vector_dim, df)\n",
        "    \n",
        "    ### \n",
        "    \n",
        "    text_tokens = []\n",
        "    for row in tqdm(df['text']):    \n",
        "        text_tokens.append(normalize(row))  \n",
        "    \n",
        "    df['text_tokens'] = text_tokens\n",
        "    \n",
        "    del text_tokens\n",
        "    ###\n",
        "    \n",
        "    X = df['text_tokens'].values\n",
        "    Y = pd.get_dummies(df['sentiment']).values\n",
        "    return (X, Y)\n"
      ]
    },
    {
      "cell_type": "markdown",
      "metadata": {
        "colab_type": "text",
        "id": "qsTKHWjKqXmo"
      },
      "source": [
        "# Attention Layer\n",
        "Check [(Bahdanau et al., 2015)](https://arxiv.org/pdf/1409.0473.pdf)"
      ]
    },
    {
      "cell_type": "code",
      "execution_count": 11,
      "metadata": {
        "colab": {},
        "colab_type": "code",
        "id": "C_HrvPCJ9HYs",
        "trusted": true
      },
      "outputs": [],
      "source": [
        "class Attention(Layer):\n",
        "    def __init__(self, **kwargs):\n",
        "        self.init = initializers.get('normal')\n",
        "        self.supports_masking = True\n",
        "        self.attention_dim = 50\n",
        "        super(Attention, self).__init__(**kwargs)\n",
        "\n",
        "    def build(self, input_shape):\n",
        "        assert len(input_shape) == 3\n",
        "        self.W = K.variable(self.init((input_shape[-1], 1)))\n",
        "        self.b = K.variable(self.init((self.attention_dim, )))\n",
        "        self.u = K.variable(self.init((self.attention_dim, 1)))\n",
        "        self.trainable_weights = [self.W, self.b, self.u]\n",
        "        super(Attention, self).build(input_shape)\n",
        "\n",
        "    def compute_mask(self, inputs, mask=None):\n",
        "        return mask\n",
        "\n",
        "    def call(self, x, mask=None):\n",
        "        uit = K.tanh(K.bias_add(K.dot(x, self.W), self.b))\n",
        "        ait = K.dot(uit, self.u)\n",
        "        ait = K.squeeze(ait, -1)\n",
        "        ait = K.exp(ait)\n",
        "\n",
        "        if mask is not None:\n",
        "            ait *= K.cast(mask, K.floatx())\n",
        "            \n",
        "        ait /= K.cast(K.sum(ait, axis=1, keepdims=True) + K.epsilon(), K.floatx())\n",
        "        ait = K.expand_dims(ait)\n",
        "        weighted_input = x * ait\n",
        "        output = K.sum(weighted_input, axis=1)\n",
        "        return output\n",
        "\n",
        "    def compute_output_shape(self, input_shape):\n",
        "        return (input_shape[0], input_shape[-1])"
      ]
    },
    {
      "cell_type": "markdown",
      "metadata": {
        "colab_type": "text",
        "id": "lmmw7Qfvqx-f"
      },
      "source": [
        "# Model architecture"
      ]
    },
    {
      "cell_type": "code",
      "execution_count": 12,
      "metadata": {
        "colab": {},
        "colab_type": "code",
        "id": "jHLATdJqEIiN",
        "trusted": true
      },
      "outputs": [
        {
          "name": "stderr",
          "output_type": "stream",
          "text": [
            "'rm' is not recognized as an internal or external command,\n",
            "operable program or batch file.\n",
            "A subdirectory or file saved_models already exists.\n"
          ]
        }
      ],
      "source": [
        "!rm -rf saved_models\n",
        "!mkdir saved_models"
      ]
    },
    {
      "cell_type": "code",
      "execution_count": 13,
      "metadata": {
        "colab": {},
        "colab_type": "code",
        "id": "V6bzUS1dqftf",
        "trusted": true
      },
      "outputs": [],
      "source": [
        "class HAHNetwork():\n",
        "    def __init__(self):\n",
        "        self.model = None\n",
        "        self.MAX_SENTENCE_LENGTH = 0\n",
        "        self.MAX_SENTENCE_COUNT = 0\n",
        "        self.VOCABULARY_SIZE = 0\n",
        "        self.word_embedding = None\n",
        "        self.model = None\n",
        "        self.word_attention_model = None\n",
        "        self.tokenizer = None\n",
        "        self.class_count = 2\n",
        "\n",
        "    def build_model(self, n_classes=2, embedding_dim=200, embeddings_path=False):\n",
        "        \n",
        "        l2_reg = regularizers.l2(0.001)\n",
        "        \n",
        "        embedding_weights = np.random.normal(0, 1, (len(self.tokenizer.word_index) + 1, embedding_dim))\n",
        "        \n",
        "        if embeddings_path is not None:\n",
        "\n",
        "            if word_embedding_type is 'from_scratch':\n",
        "                # FastText\n",
        "                filename = './fasttext_model.txt'                \n",
        "                model =  gensim.models.FastText.load(filename)\n",
        "\n",
        "                embeddings_index = model.wv                    \n",
        "                embedding_matrix = np.zeros( ( len(self.tokenizer.word_index) + 1, embedding_dim) )\n",
        "                for word, i in self.tokenizer.word_index.items():\n",
        "                    try:\n",
        "                        embedding_vector = embeddings_index[word]\n",
        "                        if embedding_vector is not None:\n",
        "                            embedding_matrix[i] = embedding_vector\n",
        "                    except Exception as e:\n",
        "                        #print(str(e))\n",
        "                        continue\n",
        "\n",
        "\n",
        "            else:                \n",
        "                embedding_dim = 300\n",
        "                embedding_matrix = load_subword_embedding_300d(self.tokenizer.word_index)\n",
        "\n",
        "            embedding_weights = embedding_matrix\n",
        "\n",
        "        sentence_in = Input(shape=(self.MAX_SENTENCE_LENGTH,), dtype='int32', name=\"input_1\")\n",
        "        \n",
        "        embedding_trainable = True\n",
        "        \n",
        "        \n",
        "        \n",
        "        if word_embedding_type is 'pre_trained':\n",
        "            embedding_trainable = False\n",
        "        \n",
        "        embedded_word_seq = Embedding(\n",
        "            self.VOCABULARY_SIZE,\n",
        "            embedding_dim,\n",
        "            weights=[embedding_weights],\n",
        "            input_length=self.MAX_SENTENCE_LENGTH,\n",
        "            trainable=embedding_trainable,\n",
        "            #mask_zero=True,\n",
        "            mask_zero=False,\n",
        "            name='word_embeddings',)(sentence_in) \n",
        "        \n",
        "        \n",
        "                     \n",
        "        dropout = Dropout(0.2)(embedded_word_seq)\n",
        "        filter_sizes = [3,4,5]\n",
        "        convs = []\n",
        "        for filter_size in filter_sizes:\n",
        "            conv = Conv1D(filters=64, kernel_size=filter_size, padding='same', activation='relu')(dropout)\n",
        "            pool = MaxPool1D(filter_size)(conv)\n",
        "            convs.append(pool)\n",
        "        \n",
        "        concatenate = Concatenate(axis=1)(convs)\n",
        "        \n",
        "        if rnn_type is 'GRU':\n",
        "            #word_encoder = Bidirectional(CuDNNGRU(50, return_sequences=True, dropout=0.2))(concatenate)                \n",
        "            dropout = Dropout(0.1)(concatenate)\n",
        "            word_encoder = Bidirectional(CuDNNGRU(50, return_sequences=True))(dropout)                \n",
        "        else:\n",
        "            word_encoder = Bidirectional(\n",
        "                LSTM(50, return_sequences=True, dropout=0.2))(embedded_word_seq)\n",
        "            \n",
        "        \n",
        "        dense_transform_word = Dense(\n",
        "            100, \n",
        "            activation='relu', \n",
        "            name='dense_transform_word', \n",
        "            kernel_regularizer=l2_reg)(word_encoder)\n",
        "        \n",
        "        # word attention\n",
        "        attention_weighted_sentence = Model(\n",
        "            sentence_in, Attention(name=\"word_attention\")(dense_transform_word))\n",
        "        \n",
        "        self.word_attention_model = attention_weighted_sentence\n",
        "        \n",
        "        attention_weighted_sentence.summary()\n",
        "\n",
        "        # sentence-attention-weighted document scores\n",
        "        \n",
        "        texts_in = Input(shape=(self.MAX_SENTENCE_COUNT, self.MAX_SENTENCE_LENGTH), dtype='int32', name=\"input_2\")\n",
        "        \n",
        "        attention_weighted_sentences = TimeDistributed(attention_weighted_sentence)(texts_in)\n",
        "        \n",
        "        \n",
        "        if rnn_type is 'GRU':\n",
        "            #sentence_encoder = Bidirectional(GRU(50, return_sequences=True, dropout=0.1, recurrent_dropout=0.2))(attention_weighted_sentences)\n",
        "            dropout = Dropout(0.1)(attention_weighted_sentences)\n",
        "            sentence_encoder = Bidirectional(CuDNNGRU(50, return_sequences=True))(dropout)\n",
        "        else:\n",
        "            sentence_encoder = Bidirectional(LSTM(50, return_sequences=True, dropout=0.1, recurrent_dropout=0.2))(attention_weighted_sentences)\n",
        "        \n",
        "        \n",
        "        dense_transform_sentence = Dense(\n",
        "            100, \n",
        "            activation='relu', \n",
        "            name='dense_transform_sentence',\n",
        "            kernel_regularizer=l2_reg)(sentence_encoder)\n",
        "        \n",
        "        # sentence attention\n",
        "        attention_weighted_text = Attention(name=\"sentence_attention\")(dense_transform_sentence)\n",
        "        \n",
        "        \n",
        "        prediction = Dense(n_classes, activation='softmax')(attention_weighted_text)\n",
        "        \n",
        "        model = Model(texts_in, prediction)\n",
        "        model.summary()\n",
        "        \n",
        "        \n",
        "        optimizer=Adam(lr=learning_rate, decay=0.0001)\n",
        "\n",
        "        model.compile(\n",
        "                      optimizer=optimizer,\n",
        "                      loss='categorical_crossentropy',\n",
        "                      metrics=['accuracy'])\n",
        "\n",
        "        return model\n",
        "\n",
        "\n",
        "    def get_tokenizer_filename(self, saved_model_filename):\n",
        "        return saved_model_filename + '.tokenizer'\n",
        "\n",
        "    def fit_on_texts(self, texts):\n",
        "        self.tokenizer = Tokenizer(filters='\"()*,-/;[\\]^_`{|}~');\n",
        "        all_sentences = []\n",
        "        max_sentence_count = 0\n",
        "        max_sentence_length = 0\n",
        "        for text in texts:\n",
        "            sentence_count = len(text)\n",
        "            if sentence_count > max_sentence_count:\n",
        "                max_sentence_count = sentence_count\n",
        "            for sentence in text:\n",
        "                sentence_length = len(sentence)\n",
        "                if sentence_length > max_sentence_length:\n",
        "                    max_sentence_length = sentence_length\n",
        "                all_sentences.append(sentence)\n",
        "\n",
        "\n",
        "        self.MAX_SENTENCE_COUNT = min(max_sentence_count, 15)\n",
        "        self.MAX_SENTENCE_LENGTH = min(max_sentence_length, 50)\n",
        "        \n",
        "        self.tokenizer.fit_on_texts(all_sentences)\n",
        "        self.VOCABULARY_SIZE = len(self.tokenizer.word_index) + 1\n",
        "        self.create_reverse_word_index()\n",
        "\n",
        "    def create_reverse_word_index(self):\n",
        "        self.reverse_word_index = {value:key for key,value in self.tokenizer.word_index.items()}\n",
        "\n",
        "    def encode_texts(self, texts):\n",
        "        encoded_texts = np.zeros((len(texts), self.MAX_SENTENCE_COUNT, self.MAX_SENTENCE_LENGTH))\n",
        "        for i, text in enumerate(texts):\n",
        "            encoded_text = np.array(pad_sequences(\n",
        "                self.tokenizer.texts_to_sequences(text), \n",
        "                maxlen=self.MAX_SENTENCE_LENGTH))[:self.MAX_SENTENCE_COUNT]\n",
        "            encoded_texts[i][-len(encoded_text):] = encoded_text\n",
        "        return encoded_texts\n",
        "\n",
        "    def save_tokenizer_on_epoch_end(self, path, epoch):\n",
        "        if epoch == 0:\n",
        "            tokenizer_state = {\n",
        "                'tokenizer': self.tokenizer,\n",
        "                'maxSentenceCount': self.MAX_SENTENCE_COUNT,\n",
        "                'maxSentenceLength': self.MAX_SENTENCE_LENGTH,\n",
        "                'vocabularySize': self.VOCABULARY_SIZE\n",
        "            }\n",
        "            pickle.dump(tokenizer_state, open(path, \"wb\" ) )\n",
        "\n",
        "    def train(self, train_x, train_y,\n",
        "              batch_size=16, \n",
        "              epochs=1, \n",
        "              embedding_dim=200, \n",
        "              embeddings_path=False, \n",
        "              saved_model_dir='saved_models', \n",
        "              saved_model_filename=None,):\n",
        "        \n",
        "        self.fit_on_texts(train_x)\n",
        "        self.model = self.build_model(\n",
        "            n_classes=train_y.shape[-1], \n",
        "            embedding_dim=200,\n",
        "            embeddings_path=embeddings_path)\n",
        "        encoded_train_x = self.encode_texts(train_x)\n",
        "        callbacks = [\n",
        "            ReduceLROnPlateau(),\n",
        "            LambdaCallback(\n",
        "                on_epoch_end=lambda epoch, logs: self.save_tokenizer_on_epoch_end(\n",
        "                    os.path.join(saved_model_dir, \n",
        "                        self.get_tokenizer_filename(saved_model_filename)), epoch))\n",
        "        ]\n",
        "\n",
        "        if saved_model_filename:\n",
        "            callbacks.append(\n",
        "                ModelCheckpoint(\n",
        "                    filepath=os.path.join(saved_model_dir, saved_model_filename),\n",
        "                    monitor='val_acc',\n",
        "                    save_best_only=True,\n",
        "                    save_weights_only=False,\n",
        "                )\n",
        "            )\n",
        "        history = self.model.fit(\n",
        "                       x=encoded_train_x, \n",
        "                       y=train_y, \n",
        "                       batch_size=batch_size, \n",
        "                       epochs=epochs, \n",
        "                       verbose=1, \n",
        "                       callbacks=callbacks,\n",
        "                       validation_split=0.1,  \n",
        "                       shuffle=True)\n",
        "        \n",
        "        # Plot\n",
        "        print(history.history.keys())\n",
        "        \n",
        "        plt.plot(history.history['acc'])\n",
        "        plt.plot(history.history['val_acc'])\n",
        "        plt.title('model accuracy')\n",
        "        plt.ylabel('accuracy')\n",
        "        plt.xlabel('epoch')\n",
        "        plt.legend(['train', 'test'], loc='upper left')\n",
        "        plt.show()\n",
        "        \n",
        "        plt.plot(history.history['loss'])\n",
        "        plt.plot(history.history['val_loss'])\n",
        "        plt.title('model loss')\n",
        "        plt.ylabel('loss')\n",
        "        plt.xlabel('epoch')\n",
        "        plt.legend(['train', 'test'], loc='upper left')\n",
        "        plt.show()\n",
        "\n",
        "    def encode_input(self, x, log=False):\n",
        "        x = np.array(x)\n",
        "        if not x.shape:\n",
        "            x = np.expand_dims(x, 0)\n",
        "        texts = np.array([normalize(text) for text in x])\n",
        "        return self.encode_texts(texts)\n"
      ]
    },
    {
      "cell_type": "markdown",
      "metadata": {
        "colab_type": "text",
        "id": "obo_fTOvUsi8"
      },
      "source": [
        "# Load dataset\n",
        "\n",
        "This might take several minutes, depending your dataset"
      ]
    },
    {
      "cell_type": "code",
      "execution_count": 14,
      "metadata": {
        "colab": {
          "base_uri": "https://localhost:8080/",
          "height": 34
        },
        "colab_type": "code",
        "id": "jFwuRFg3qxBW",
        "outputId": "169edaf5-d3c2-406d-b0ed-62ac08f257c9",
        "trusted": true
      },
      "outputs": [
        {
          "name": "stderr",
          "output_type": "stream",
          "text": [
            "100%|██████████| 49000/49000 [48:38<00:00, 16.79it/s]  \n"
          ]
        }
      ],
      "source": [
        "YELP_DATA_PATH = 'yelp_reviews_sampling.json'\n",
        "IMDB_DATA_PATH = 'imdb_reviews.csv'\n",
        "SAVED_MODEL_DIR = 'saved_models'\n",
        "SAVED_MODEL_FILENAME = 'model.h5'\n",
        "\n",
        "if dataset is 'yelp':\n",
        "    (X, Y) = load_data_yelp(path=YELP_DATA_PATH, size=400000)\n",
        "else:\n",
        "    (X, Y) = load_data_imdb(path=IMDB_DATA_PATH, size=49000)\n"
      ]
    },
    {
      "cell_type": "markdown",
      "metadata": {
        "colab_type": "text",
        "id": "D9Zcz1wv0wf3"
      },
      "source": [
        "# Plots Word Embedding chart\n"
      ]
    },
    {
      "cell_type": "code",
      "execution_count": 15,
      "metadata": {
        "colab": {
          "base_uri": "https://localhost:8080/",
          "height": 1288
        },
        "colab_type": "code",
        "id": "0TD83uVu04z7",
        "outputId": "7cf44b2b-485c-4280-d72a-ea5ecf5adc93",
        "trusted": true
      },
      "outputs": [
        {
          "data": {
            "image/png": "[encoded data removed]",
            "text/plain": [
              "<Figure size 1296x1296 with 1 Axes>"
            ]
          },
          "metadata": {
            "needs_background": "light"
          },
          "output_type": "display_data"
        }
      ],
      "source": [
        "limit = 200\n",
        "vector_dim = 200\n",
        "\n",
        "# Fasttext\n",
        "filename = './fasttext_model.txt'                \n",
        "model =  gensim.models.FastText.load(filename)\n",
        "words = []\n",
        "embedding = np.array([])\n",
        "i = 0\n",
        "for word in model.wv.key_to_index.keys():\n",
        "    if i == limit: break\n",
        "\n",
        "    words.append(word)\n",
        "    embedding = np.append(embedding, model.wv.get_vector(word))\n",
        "    i += 1\n",
        "\n",
        "embedding = embedding.reshape(limit, vector_dim)    \n",
        "tsne = TSNE(n_components=2)\n",
        "low_dim_embedding = tsne.fit_transform(embedding)\n",
        "       \n",
        "plot_with_labels(low_dim_embedding, words)"
      ]
    },
    {
      "cell_type": "markdown",
      "metadata": {
        "colab_type": "text",
        "id": "qOZg-uB4HV1H"
      },
      "source": [
        "\n",
        "# Training model"
      ]
    },
    {
      "cell_type": "code",
      "execution_count": 16,
      "metadata": {
        "colab": {
          "base_uri": "https://localhost:8080/",
          "height": 2395
        },
        "colab_type": "code",
        "id": "7ZkHlV6rHNkJ",
        "outputId": "41baeda1-e852-4511-d1ac-51387f61842c",
        "trusted": true
      },
      "outputs": [
        {
          "name": "stdout",
          "output_type": "stream",
          "text": [
            "WARNING:tensorflow:From C:\\Users\\Acer\\AppData\\Roaming\\Python\\Python36\\site-packages\\keras\\backend\\tensorflow_backend.py:1044: calling reduce_sum (from tensorflow.python.ops.math_ops) with keep_dims is deprecated and will be removed in a future version.\n",
            "Instructions for updating:\n",
            "keep_dims is deprecated, use keepdims instead\n",
            "_________________________________________________________________\n",
            "Layer (type)                 Output Shape              Param #   \n",
            "=================================================================\n",
            "input_1 (InputLayer)         (None, 50)                0         \n",
            "_________________________________________________________________\n",
            "word_embeddings (Embedding)  (None, 50, 200)           22420600  \n",
            "_________________________________________________________________\n",
            "dropout_1 (Dropout)          (None, 50, 200)           0         \n",
            "_________________________________________________________________\n",
            "bidirectional_1 (Bidirection (None, 50, 100)           100400    \n",
            "_________________________________________________________________\n",
            "dense_transform_word (Dense) (None, 50, 100)           10100     \n",
            "_________________________________________________________________\n",
            "word_attention (Attention)   (None, 100)               200       \n",
            "=================================================================\n",
            "Total params: 22,531,300.0\n",
            "Trainable params: 22,531,300.0\n",
            "Non-trainable params: 0.0\n",
            "_________________________________________________________________\n",
            "_________________________________________________________________\n",
            "Layer (type)                 Output Shape              Param #   \n",
            "=================================================================\n",
            "input_2 (InputLayer)         (None, 15, 50)            0         \n",
            "_________________________________________________________________\n",
            "time_distributed_1 (TimeDist (None, 15, 100)           22531300  \n",
            "_________________________________________________________________\n",
            "bidirectional_2 (Bidirection (None, 15, 100)           60400     \n",
            "_________________________________________________________________\n",
            "dense_transform_sentence (De (None, 15, 100)           10100     \n",
            "_________________________________________________________________\n",
            "sentence_attention (Attentio (None, 100)               200       \n",
            "_________________________________________________________________\n",
            "dense_1 (Dense)              (None, 2)                 202       \n",
            "=================================================================\n",
            "Total params: 22,602,202.0\n",
            "Trainable params: 22,602,202.0\n",
            "Non-trainable params: 0.0\n",
            "_________________________________________________________________\n",
            "WARNING:tensorflow:From C:\\Users\\Acer\\AppData\\Roaming\\Python\\Python36\\site-packages\\keras\\backend\\tensorflow_backend.py:1123: calling reduce_mean (from tensorflow.python.ops.math_ops) with keep_dims is deprecated and will be removed in a future version.\n",
            "Instructions for updating:\n",
            "keep_dims is deprecated, use keepdims instead\n",
            "WARNING:tensorflow:Variable *= will be deprecated. Use `var.assign(var * other)` if you want assignment to the variable value or `x = x * y` if you want a new python Tensor object.\n",
            "Train on 44100 samples, validate on 4900 samples\n",
            "Epoch 1/8\n",
            "44100/44100 [==============================] - 1430s - loss: 0.3750 - acc: 0.8472 - val_loss: 0.3530 - val_acc: 0.8629\n",
            "Epoch 2/8\n",
            "44100/44100 [==============================] - 1458s - loss: 0.1869 - acc: 0.9351 - val_loss: 0.3168 - val_acc: 0.8800\n",
            "Epoch 3/8\n",
            "44100/44100 [==============================] - 1462s - loss: 0.1052 - acc: 0.9675 - val_loss: 0.4734 - val_acc: 0.8480\n",
            "Epoch 4/8\n",
            "44100/44100 [==============================] - 1460s - loss: 0.0546 - acc: 0.9852 - val_loss: 0.6388 - val_acc: 0.8102\n",
            "Epoch 5/8\n",
            "44100/44100 [==============================] - 1455s - loss: 0.0273 - acc: 0.9939 - val_loss: 0.4889 - val_acc: 0.8749\n",
            "Epoch 6/8\n",
            "44100/44100 [==============================] - 1458s - loss: 0.0172 - acc: 0.9968 - val_loss: 0.7817 - val_acc: 0.8306\n",
            "Epoch 7/8\n",
            "44100/44100 [==============================] - 1457s - loss: 0.0131 - acc: 0.9979 - val_loss: 1.1160 - val_acc: 0.7727\n",
            "Epoch 8/8\n",
            "44100/44100 [==============================] - 1424s - loss: 0.0115 - acc: 0.9978 - val_loss: 1.8252 - val_acc: 0.6835\n",
            "dict_keys(['val_loss', 'val_acc', 'loss', 'acc', 'lr'])\n"
          ]
        },
        {
          "data": {
            "image/png": "[encoded data removed]",
            "text/plain": [
              "<Figure size 432x288 with 1 Axes>"
            ]
          },
          "metadata": {
            "needs_background": "light"
          },
          "output_type": "display_data"
        },
        {
          "data": {
            "image/png": "[encoded data removed]",
            "text/plain": [
              "<Figure size 432x288 with 1 Axes>"
            ]
          },
          "metadata": {
            "needs_background": "light"
          },
          "output_type": "display_data"
        }
      ],
      "source": [
        "K.clear_session()\n",
        "K.set_learning_phase(False)\n",
        "model = HAHNetwork()\n",
        "model.train(X, Y, batch_size=64, epochs=8, embeddings_path=True, saved_model_dir=SAVED_MODEL_DIR, saved_model_filename=SAVED_MODEL_FILENAME)"
      ]
    }
  ],
  "metadata": {
    "accelerator": "GPU",
    "colab": {
      "collapsed_sections": [
        "IFyTXuEK9TJ3",
        "5exIp4egmwwA",
        "JLle9TkY1T_X",
        "voCjs6ewiSoF",
        "QTR1_43CqGSW",
        "Iu_O63OD2h8P",
        "qsTKHWjKqXmo"
      ],
      "name": "[Paper] HAHNN for Document Classification",
      "provenance": [],
      "version": "0.3.2"
    },
    "kernelspec": {
      "display_name": "Python 3",
      "name": "python3"
    },
    "language_info": {
      "codemirror_mode": {
        "name": "ipython",
        "version": 3
      },
      "file_extension": ".py",
      "mimetype": "text/x-python",
      "name": "python",
      "nbconvert_exporter": "python",
      "pygments_lexer": "ipython3",
      "version": "3.6.13"
    }
  },
  "nbformat": 4,
  "nbformat_minor": 0
}
